{
 "cells": [
  {
   "cell_type": "markdown",
   "metadata": {},
   "source": [
    "# Food Truck Business Profitability Assessment\n",
    "\n",
    "This file is mainly used to detect what are the affecting factors for food truck business & data visualization "
   ]
  },
  {
   "cell_type": "code",
   "execution_count": 1,
   "metadata": {},
   "outputs": [
    {
     "name": "stderr",
     "output_type": "stream",
     "text": [
      "C:\\Users\\Claire\\Anaconda3\\lib\\site-packages\\statsmodels\\compat\\pandas.py:56: FutureWarning: The pandas.core.datetools module is deprecated and will be removed in a future version. Please use the pandas.tseries module instead.\n",
      "  from pandas.core import datetools\n"
     ]
    }
   ],
   "source": [
    "# import all libraries \n",
    "import pandas as pd\n",
    "from pandas import Series\n",
    "\n",
    "import numpy as np\n",
    "\n",
    "import matplotlib.pyplot as plt\n",
    "import seaborn as sns\n",
    "\n",
    "import statistics\n",
    "\n",
    "import statsmodels.api as sm\n",
    "\n",
    "import pylab \n",
    "import scipy.stats as stats\n",
    "\n",
    "from sklearn import preprocessing"
   ]
  },
  {
   "cell_type": "code",
   "execution_count": 2,
   "metadata": {},
   "outputs": [
    {
     "data": {
      "text/html": [
       "<div>\n",
       "<style>\n",
       "    .dataframe thead tr:only-child th {\n",
       "        text-align: right;\n",
       "    }\n",
       "\n",
       "    .dataframe thead th {\n",
       "        text-align: left;\n",
       "    }\n",
       "\n",
       "    .dataframe tbody tr th {\n",
       "        vertical-align: top;\n",
       "    }\n",
       "</style>\n",
       "<table border=\"1\" class=\"dataframe\">\n",
       "  <thead>\n",
       "    <tr style=\"text-align: right;\">\n",
       "      <th></th>\n",
       "      <th>Quantity</th>\n",
       "      <th>City</th>\n",
       "      <th>Precipitation</th>\n",
       "      <th>Temperature</th>\n",
       "      <th>Festival</th>\n",
       "      <th>Price</th>\n",
       "      <th>Weekday</th>\n",
       "      <th>London</th>\n",
       "      <th>Waterloo</th>\n",
       "      <th>Toronto</th>\n",
       "    </tr>\n",
       "    <tr>\n",
       "      <th>Date</th>\n",
       "      <th></th>\n",
       "      <th></th>\n",
       "      <th></th>\n",
       "      <th></th>\n",
       "      <th></th>\n",
       "      <th></th>\n",
       "      <th></th>\n",
       "      <th></th>\n",
       "      <th></th>\n",
       "      <th></th>\n",
       "    </tr>\n",
       "  </thead>\n",
       "  <tbody>\n",
       "    <tr>\n",
       "      <th>12/1/2013</th>\n",
       "      <td>76</td>\n",
       "      <td>Hamilton</td>\n",
       "      <td>18</td>\n",
       "      <td>-5</td>\n",
       "      <td>0</td>\n",
       "      <td>8</td>\n",
       "      <td>1</td>\n",
       "      <td>0</td>\n",
       "      <td>0</td>\n",
       "      <td>0</td>\n",
       "    </tr>\n",
       "    <tr>\n",
       "      <th>12/2/2013</th>\n",
       "      <td>53</td>\n",
       "      <td>Toronto</td>\n",
       "      <td>73</td>\n",
       "      <td>3</td>\n",
       "      <td>0</td>\n",
       "      <td>10</td>\n",
       "      <td>1</td>\n",
       "      <td>0</td>\n",
       "      <td>0</td>\n",
       "      <td>1</td>\n",
       "    </tr>\n",
       "    <tr>\n",
       "      <th>12/3/2013</th>\n",
       "      <td>73</td>\n",
       "      <td>London</td>\n",
       "      <td>47</td>\n",
       "      <td>0</td>\n",
       "      <td>0</td>\n",
       "      <td>8</td>\n",
       "      <td>1</td>\n",
       "      <td>1</td>\n",
       "      <td>0</td>\n",
       "      <td>0</td>\n",
       "    </tr>\n",
       "    <tr>\n",
       "      <th>12/4/2013</th>\n",
       "      <td>70</td>\n",
       "      <td>London</td>\n",
       "      <td>40</td>\n",
       "      <td>-1</td>\n",
       "      <td>0</td>\n",
       "      <td>9</td>\n",
       "      <td>1</td>\n",
       "      <td>1</td>\n",
       "      <td>0</td>\n",
       "      <td>0</td>\n",
       "    </tr>\n",
       "    <tr>\n",
       "      <th>12/5/2013</th>\n",
       "      <td>7</td>\n",
       "      <td>Toronto</td>\n",
       "      <td>89</td>\n",
       "      <td>0</td>\n",
       "      <td>0</td>\n",
       "      <td>10</td>\n",
       "      <td>0</td>\n",
       "      <td>0</td>\n",
       "      <td>0</td>\n",
       "      <td>1</td>\n",
       "    </tr>\n",
       "  </tbody>\n",
       "</table>\n",
       "</div>"
      ],
      "text/plain": [
       "           Quantity      City  Precipitation  Temperature  Festival  Price  \\\n",
       "Date                                                                         \n",
       "12/1/2013        76  Hamilton             18           -5         0      8   \n",
       "12/2/2013        53   Toronto             73            3         0     10   \n",
       "12/3/2013        73    London             47            0         0      8   \n",
       "12/4/2013        70    London             40           -1         0      9   \n",
       "12/5/2013         7   Toronto             89            0         0     10   \n",
       "\n",
       "           Weekday  London  Waterloo  Toronto  \n",
       "Date                                           \n",
       "12/1/2013        1       0         0        0  \n",
       "12/2/2013        1       0         0        1  \n",
       "12/3/2013        1       1         0        0  \n",
       "12/4/2013        1       1         0        0  \n",
       "12/5/2013        0       0         0        1  "
      ]
     },
     "execution_count": 2,
     "metadata": {},
     "output_type": "execute_result"
    }
   ],
   "source": [
    "data = pd.read_csv(\"Food_truck.csv\",index_col='Date')\n",
    "data.columns = ['Quantity', 'City', 'Precipitation', 'Temperature', 'Festival', 'Price','Weekday','London','Waterloo','Toronto']\n",
    "data['Price']=data['Price'].map(lambda x: int(x[2]) if x[2] != '1' else int(x[2:4]))\n",
    "data['Precipitation']=data['Precipitation'].map(lambda x: int(x[0:x.find(\"%\")]))\n",
    "\n",
    "data.head()"
   ]
  },
  {
   "cell_type": "code",
   "execution_count": 3,
   "metadata": {},
   "outputs": [
    {
     "data": {
      "text/html": [
       "<div>\n",
       "<style>\n",
       "    .dataframe thead tr:only-child th {\n",
       "        text-align: right;\n",
       "    }\n",
       "\n",
       "    .dataframe thead th {\n",
       "        text-align: left;\n",
       "    }\n",
       "\n",
       "    .dataframe tbody tr th {\n",
       "        vertical-align: top;\n",
       "    }\n",
       "</style>\n",
       "<table border=\"1\" class=\"dataframe\">\n",
       "  <thead>\n",
       "    <tr style=\"text-align: right;\">\n",
       "      <th></th>\n",
       "      <th>Quantity</th>\n",
       "      <th>Precipitation</th>\n",
       "      <th>Temperature</th>\n",
       "      <th>Festival</th>\n",
       "      <th>Price</th>\n",
       "      <th>Weekday</th>\n",
       "      <th>London</th>\n",
       "      <th>Waterloo</th>\n",
       "      <th>Toronto</th>\n",
       "    </tr>\n",
       "  </thead>\n",
       "  <tbody>\n",
       "    <tr>\n",
       "      <th>count</th>\n",
       "      <td>365.000000</td>\n",
       "      <td>365.000000</td>\n",
       "      <td>365.000000</td>\n",
       "      <td>365.000000</td>\n",
       "      <td>365.000000</td>\n",
       "      <td>365.000000</td>\n",
       "      <td>365.000000</td>\n",
       "      <td>365.000000</td>\n",
       "      <td>365.000000</td>\n",
       "    </tr>\n",
       "    <tr>\n",
       "      <th>mean</th>\n",
       "      <td>48.378082</td>\n",
       "      <td>52.109589</td>\n",
       "      <td>9.073973</td>\n",
       "      <td>0.084932</td>\n",
       "      <td>7.972603</td>\n",
       "      <td>0.572603</td>\n",
       "      <td>0.265753</td>\n",
       "      <td>0.200000</td>\n",
       "      <td>0.257534</td>\n",
       "    </tr>\n",
       "    <tr>\n",
       "      <th>std</th>\n",
       "      <td>26.597934</td>\n",
       "      <td>26.071205</td>\n",
       "      <td>9.832806</td>\n",
       "      <td>0.279162</td>\n",
       "      <td>1.437074</td>\n",
       "      <td>0.495380</td>\n",
       "      <td>0.442340</td>\n",
       "      <td>0.400549</td>\n",
       "      <td>0.437876</td>\n",
       "    </tr>\n",
       "    <tr>\n",
       "      <th>min</th>\n",
       "      <td>0.000000</td>\n",
       "      <td>0.000000</td>\n",
       "      <td>-10.000000</td>\n",
       "      <td>0.000000</td>\n",
       "      <td>6.000000</td>\n",
       "      <td>0.000000</td>\n",
       "      <td>0.000000</td>\n",
       "      <td>0.000000</td>\n",
       "      <td>0.000000</td>\n",
       "    </tr>\n",
       "    <tr>\n",
       "      <th>25%</th>\n",
       "      <td>30.000000</td>\n",
       "      <td>33.000000</td>\n",
       "      <td>0.000000</td>\n",
       "      <td>0.000000</td>\n",
       "      <td>7.000000</td>\n",
       "      <td>0.000000</td>\n",
       "      <td>0.000000</td>\n",
       "      <td>0.000000</td>\n",
       "      <td>0.000000</td>\n",
       "    </tr>\n",
       "    <tr>\n",
       "      <th>50%</th>\n",
       "      <td>46.000000</td>\n",
       "      <td>53.000000</td>\n",
       "      <td>8.000000</td>\n",
       "      <td>0.000000</td>\n",
       "      <td>8.000000</td>\n",
       "      <td>1.000000</td>\n",
       "      <td>0.000000</td>\n",
       "      <td>0.000000</td>\n",
       "      <td>0.000000</td>\n",
       "    </tr>\n",
       "    <tr>\n",
       "      <th>75%</th>\n",
       "      <td>65.000000</td>\n",
       "      <td>73.000000</td>\n",
       "      <td>18.000000</td>\n",
       "      <td>0.000000</td>\n",
       "      <td>9.000000</td>\n",
       "      <td>1.000000</td>\n",
       "      <td>1.000000</td>\n",
       "      <td>0.000000</td>\n",
       "      <td>1.000000</td>\n",
       "    </tr>\n",
       "    <tr>\n",
       "      <th>max</th>\n",
       "      <td>135.000000</td>\n",
       "      <td>100.000000</td>\n",
       "      <td>27.000000</td>\n",
       "      <td>1.000000</td>\n",
       "      <td>10.000000</td>\n",
       "      <td>1.000000</td>\n",
       "      <td>1.000000</td>\n",
       "      <td>1.000000</td>\n",
       "      <td>1.000000</td>\n",
       "    </tr>\n",
       "  </tbody>\n",
       "</table>\n",
       "</div>"
      ],
      "text/plain": [
       "         Quantity  Precipitation  Temperature    Festival       Price  \\\n",
       "count  365.000000     365.000000   365.000000  365.000000  365.000000   \n",
       "mean    48.378082      52.109589     9.073973    0.084932    7.972603   \n",
       "std     26.597934      26.071205     9.832806    0.279162    1.437074   \n",
       "min      0.000000       0.000000   -10.000000    0.000000    6.000000   \n",
       "25%     30.000000      33.000000     0.000000    0.000000    7.000000   \n",
       "50%     46.000000      53.000000     8.000000    0.000000    8.000000   \n",
       "75%     65.000000      73.000000    18.000000    0.000000    9.000000   \n",
       "max    135.000000     100.000000    27.000000    1.000000   10.000000   \n",
       "\n",
       "          Weekday      London    Waterloo     Toronto  \n",
       "count  365.000000  365.000000  365.000000  365.000000  \n",
       "mean     0.572603    0.265753    0.200000    0.257534  \n",
       "std      0.495380    0.442340    0.400549    0.437876  \n",
       "min      0.000000    0.000000    0.000000    0.000000  \n",
       "25%      0.000000    0.000000    0.000000    0.000000  \n",
       "50%      1.000000    0.000000    0.000000    0.000000  \n",
       "75%      1.000000    1.000000    0.000000    1.000000  \n",
       "max      1.000000    1.000000    1.000000    1.000000  "
      ]
     },
     "execution_count": 3,
     "metadata": {},
     "output_type": "execute_result"
    }
   ],
   "source": [
    "data.describe()"
   ]
  },
  {
   "cell_type": "code",
   "execution_count": 4,
   "metadata": {},
   "outputs": [
    {
     "data": {
      "text/plain": [
       "Quantity         0\n",
       "City             0\n",
       "Precipitation    0\n",
       "Temperature      0\n",
       "Festival         0\n",
       "Price            0\n",
       "Weekday          0\n",
       "London           0\n",
       "Waterloo         0\n",
       "Toronto          0\n",
       "dtype: int64"
      ]
     },
     "execution_count": 4,
     "metadata": {},
     "output_type": "execute_result"
    }
   ],
   "source": [
    "# quick check of data quality \n",
    "data.isnull().sum()"
   ]
  },
  {
   "cell_type": "markdown",
   "metadata": {},
   "source": [
    "### Quick Financial Analysis    - Profitability by CITY\n",
    "\n",
    "Assumptions: \n",
    "\n",
    "    Assume each burger contains one beef patty, two(???? Make it dynamic) buns and one portion of topping; \n",
    "    Assume no left over material cost; \n",
    "    Assume \"Temperature\" and \"% chance of parcipitation\" parameter will not change across cities; \n",
    "    ASSUME travel time does not occur opportunity cost; \n",
    "    \n",
    "    \n",
    "    \n",
    "Optimization assumption:\n",
    "    \n",
    "    Assume price should be integer; "
   ]
  },
  {
   "cell_type": "markdown",
   "metadata": {},
   "source": [
    "##### Approach - \n",
    "\n",
    "    Separate data by city; \n",
    "    \n",
    "    For each city, fixed cost per day would be the same (from Parking and distance (GAS)); \n",
    "                   variable cost would depend on sales quantity; \n",
    "                   TOTAL COST PER DAY = fixed cost + [variable cost] / unit * [unit]\n",
    "                   \n",
    "                   Revenue PER DAY = [Price for each day] * [unit]\n",
    "                   \n",
    "                   DAILY PROFIT = Revenue PER DAY - TOTAL COST PER DAY\n",
    "                   \n",
    "     TOTAL PROFIT = sum(DAILY PROFIT)"
   ]
  },
  {
   "cell_type": "markdown",
   "metadata": {},
   "source": [
    "###### Background information \n",
    "\n",
    "    Fixed cost when you pick location/city include: Gas, parking;\n",
    "    Variable cost include: price of burger "
   ]
  },
  {
   "cell_type": "markdown",
   "metadata": {},
   "source": [
    "Fixed cost each day - \n",
    "\n",
    "    For Toronto: 25 + 70/5*1.039 = 39.546 = 40\n",
    "    For Hamilton:  15 + 0/5*1.039 = 15\n",
    "    For Waterloo: 10 + 72/5*1.039 = 24.961599999999997 = 25\n",
    "    For London: 0 + 130/5*1.039 = 27.014 = 27\n"
   ]
  },
  {
   "cell_type": "markdown",
   "metadata": {},
   "source": [
    "###### Some interesting side conclusion can be derived from analysis: \n",
    "\n",
    "    Days of festival is low (London: 7; Waterloo: 10; Toronto: 6; Hamilto: 8)\n",
    "    Around 50% days are weekdays for each city; \n",
    "    "
   ]
  },
  {
   "cell_type": "markdown",
   "metadata": {},
   "source": [
    "###### London"
   ]
  },
  {
   "cell_type": "code",
   "execution_count": 5,
   "metadata": {},
   "outputs": [
    {
     "data": {
      "text/html": [
       "<div>\n",
       "<style>\n",
       "    .dataframe thead tr:only-child th {\n",
       "        text-align: right;\n",
       "    }\n",
       "\n",
       "    .dataframe thead th {\n",
       "        text-align: left;\n",
       "    }\n",
       "\n",
       "    .dataframe tbody tr th {\n",
       "        vertical-align: top;\n",
       "    }\n",
       "</style>\n",
       "<table border=\"1\" class=\"dataframe\">\n",
       "  <thead>\n",
       "    <tr style=\"text-align: right;\">\n",
       "      <th></th>\n",
       "      <th>Quantity</th>\n",
       "      <th>Precipitation</th>\n",
       "      <th>Temperature</th>\n",
       "      <th>Festival</th>\n",
       "      <th>Price</th>\n",
       "      <th>Weekday</th>\n",
       "    </tr>\n",
       "    <tr>\n",
       "      <th>Date</th>\n",
       "      <th></th>\n",
       "      <th></th>\n",
       "      <th></th>\n",
       "      <th></th>\n",
       "      <th></th>\n",
       "      <th></th>\n",
       "    </tr>\n",
       "  </thead>\n",
       "  <tbody>\n",
       "    <tr>\n",
       "      <th>12/3/2013</th>\n",
       "      <td>73</td>\n",
       "      <td>47</td>\n",
       "      <td>0</td>\n",
       "      <td>0</td>\n",
       "      <td>8</td>\n",
       "      <td>1</td>\n",
       "    </tr>\n",
       "    <tr>\n",
       "      <th>12/4/2013</th>\n",
       "      <td>70</td>\n",
       "      <td>40</td>\n",
       "      <td>-1</td>\n",
       "      <td>0</td>\n",
       "      <td>9</td>\n",
       "      <td>1</td>\n",
       "    </tr>\n",
       "  </tbody>\n",
       "</table>\n",
       "</div>"
      ],
      "text/plain": [
       "           Quantity  Precipitation  Temperature  Festival  Price  Weekday\n",
       "Date                                                                     \n",
       "12/3/2013        73             47            0         0      8        1\n",
       "12/4/2013        70             40           -1         0      9        1"
      ]
     },
     "execution_count": 5,
     "metadata": {},
     "output_type": "execute_result"
    }
   ],
   "source": [
    "# London - 97 days out of 365 days [ 27% ]\n",
    "\n",
    "London_data = data.loc[data['London'] == 1]\n",
    "London_data = London_data [['Quantity','Precipitation','Temperature','Festival','Price','Weekday']]\n",
    "\n",
    "# London_data.reset_index(drop=True)\n",
    "London_data.head(2)"
   ]
  },
  {
   "cell_type": "code",
   "execution_count": 6,
   "metadata": {},
   "outputs": [
    {
     "data": {
      "text/html": [
       "<div>\n",
       "<style>\n",
       "    .dataframe thead tr:only-child th {\n",
       "        text-align: right;\n",
       "    }\n",
       "\n",
       "    .dataframe thead th {\n",
       "        text-align: left;\n",
       "    }\n",
       "\n",
       "    .dataframe tbody tr th {\n",
       "        vertical-align: top;\n",
       "    }\n",
       "</style>\n",
       "<table border=\"1\" class=\"dataframe\">\n",
       "  <thead>\n",
       "    <tr style=\"text-align: right;\">\n",
       "      <th></th>\n",
       "      <th>Quantity</th>\n",
       "      <th>Precipitation</th>\n",
       "      <th>Temperature</th>\n",
       "      <th>Festival</th>\n",
       "      <th>Price</th>\n",
       "      <th>Weekday</th>\n",
       "      <th>DAILY_PROFIT</th>\n",
       "    </tr>\n",
       "    <tr>\n",
       "      <th>Date</th>\n",
       "      <th></th>\n",
       "      <th></th>\n",
       "      <th></th>\n",
       "      <th></th>\n",
       "      <th></th>\n",
       "      <th></th>\n",
       "      <th></th>\n",
       "    </tr>\n",
       "  </thead>\n",
       "  <tbody>\n",
       "    <tr>\n",
       "      <th>12/3/2013</th>\n",
       "      <td>73</td>\n",
       "      <td>47</td>\n",
       "      <td>0</td>\n",
       "      <td>0</td>\n",
       "      <td>8</td>\n",
       "      <td>1</td>\n",
       "      <td>389.086</td>\n",
       "    </tr>\n",
       "    <tr>\n",
       "      <th>12/4/2013</th>\n",
       "      <td>70</td>\n",
       "      <td>40</td>\n",
       "      <td>-1</td>\n",
       "      <td>0</td>\n",
       "      <td>9</td>\n",
       "      <td>1</td>\n",
       "      <td>441.986</td>\n",
       "    </tr>\n",
       "  </tbody>\n",
       "</table>\n",
       "</div>"
      ],
      "text/plain": [
       "           Quantity  Precipitation  Temperature  Festival  Price  Weekday  \\\n",
       "Date                                                                        \n",
       "12/3/2013        73             47            0         0      8        1   \n",
       "12/4/2013        70             40           -1         0      9        1   \n",
       "\n",
       "           DAILY_PROFIT  \n",
       "Date                     \n",
       "12/3/2013       389.086  \n",
       "12/4/2013       441.986  "
      ]
     },
     "execution_count": 6,
     "metadata": {},
     "output_type": "execute_result"
    }
   ],
   "source": [
    "London_data['DAILY_PROFIT'] =  London_data.Quantity * London_data.Price - (0 + 130/5*1.039 + London_data.Quantity * 2.3)\n",
    "London_data.head(2)\n",
    "\n",
    "# Quantity * price - (parking + gas + Quantity * material_cost)"
   ]
  },
  {
   "cell_type": "code",
   "execution_count": 7,
   "metadata": {},
   "outputs": [
    {
     "name": "stdout",
     "output_type": "stream",
     "text": [
      "Total profit for London is $ 29359.5\n",
      "Avgerage daily profit for London is $ 302.7\n",
      "Median daily profit for London is $ 257.886\n"
     ]
    }
   ],
   "source": [
    "# Total profit \n",
    "\n",
    "print('Total profit for London is $', round(sum(London_data['DAILY_PROFIT']),1)) \n",
    "\n",
    "print('Avgerage daily profit for London is $', round(sum(London_data['DAILY_PROFIT'])/len(London_data['DAILY_PROFIT']),1)) \n",
    "\n",
    "print('Median daily profit for London is $', statistics.median(London_data['DAILY_PROFIT'])) "
   ]
  },
  {
   "cell_type": "code",
   "execution_count": 8,
   "metadata": {},
   "outputs": [
    {
     "name": "stdout",
     "output_type": "stream",
     "text": [
      "Count of days in London: 97\n",
      "Percentage of days in London: 26.6 %\n"
     ]
    }
   ],
   "source": [
    "# count\n",
    "print('Count of days in London:', len(London_data['DAILY_PROFIT'])) \n",
    "print('Percentage of days in London:', round(len(London_data['DAILY_PROFIT'])/365*100,1),'%') "
   ]
  },
  {
   "cell_type": "code",
   "execution_count": 9,
   "metadata": {
    "scrolled": true
   },
   "outputs": [
    {
     "data": {
      "text/html": [
       "<div>\n",
       "<style>\n",
       "    .dataframe thead tr:only-child th {\n",
       "        text-align: right;\n",
       "    }\n",
       "\n",
       "    .dataframe thead th {\n",
       "        text-align: left;\n",
       "    }\n",
       "\n",
       "    .dataframe tbody tr th {\n",
       "        vertical-align: top;\n",
       "    }\n",
       "</style>\n",
       "<table border=\"1\" class=\"dataframe\">\n",
       "  <thead>\n",
       "    <tr style=\"text-align: right;\">\n",
       "      <th></th>\n",
       "      <th>Quantity</th>\n",
       "      <th>Precipitation</th>\n",
       "      <th>Temperature</th>\n",
       "      <th>Festival</th>\n",
       "      <th>Price</th>\n",
       "      <th>Weekday</th>\n",
       "      <th>DAILY_PROFIT</th>\n",
       "    </tr>\n",
       "  </thead>\n",
       "  <tbody>\n",
       "    <tr>\n",
       "      <th>count</th>\n",
       "      <td>97.000000</td>\n",
       "      <td>97.000000</td>\n",
       "      <td>97.000000</td>\n",
       "      <td>97.000000</td>\n",
       "      <td>97.000000</td>\n",
       "      <td>97.000000</td>\n",
       "      <td>97.000000</td>\n",
       "    </tr>\n",
       "    <tr>\n",
       "      <th>mean</th>\n",
       "      <td>58.938144</td>\n",
       "      <td>42.762887</td>\n",
       "      <td>8.505155</td>\n",
       "      <td>0.072165</td>\n",
       "      <td>7.886598</td>\n",
       "      <td>0.556701</td>\n",
       "      <td>302.675691</td>\n",
       "    </tr>\n",
       "    <tr>\n",
       "      <th>std</th>\n",
       "      <td>21.471791</td>\n",
       "      <td>21.835929</td>\n",
       "      <td>10.448409</td>\n",
       "      <td>0.260105</td>\n",
       "      <td>1.442483</td>\n",
       "      <td>0.499355</td>\n",
       "      <td>157.132437</td>\n",
       "    </tr>\n",
       "    <tr>\n",
       "      <th>min</th>\n",
       "      <td>18.000000</td>\n",
       "      <td>0.000000</td>\n",
       "      <td>-10.000000</td>\n",
       "      <td>0.000000</td>\n",
       "      <td>6.000000</td>\n",
       "      <td>0.000000</td>\n",
       "      <td>39.586000</td>\n",
       "    </tr>\n",
       "    <tr>\n",
       "      <th>25%</th>\n",
       "      <td>44.000000</td>\n",
       "      <td>28.000000</td>\n",
       "      <td>0.000000</td>\n",
       "      <td>0.000000</td>\n",
       "      <td>7.000000</td>\n",
       "      <td>0.000000</td>\n",
       "      <td>198.686000</td>\n",
       "    </tr>\n",
       "    <tr>\n",
       "      <th>50%</th>\n",
       "      <td>57.000000</td>\n",
       "      <td>45.000000</td>\n",
       "      <td>8.000000</td>\n",
       "      <td>0.000000</td>\n",
       "      <td>8.000000</td>\n",
       "      <td>1.000000</td>\n",
       "      <td>257.886000</td>\n",
       "    </tr>\n",
       "    <tr>\n",
       "      <th>75%</th>\n",
       "      <td>73.000000</td>\n",
       "      <td>59.000000</td>\n",
       "      <td>19.000000</td>\n",
       "      <td>0.000000</td>\n",
       "      <td>9.000000</td>\n",
       "      <td>1.000000</td>\n",
       "      <td>400.486000</td>\n",
       "    </tr>\n",
       "    <tr>\n",
       "      <th>max</th>\n",
       "      <td>130.000000</td>\n",
       "      <td>80.000000</td>\n",
       "      <td>27.000000</td>\n",
       "      <td>1.000000</td>\n",
       "      <td>10.000000</td>\n",
       "      <td>1.000000</td>\n",
       "      <td>843.986000</td>\n",
       "    </tr>\n",
       "  </tbody>\n",
       "</table>\n",
       "</div>"
      ],
      "text/plain": [
       "         Quantity  Precipitation  Temperature   Festival      Price  \\\n",
       "count   97.000000      97.000000    97.000000  97.000000  97.000000   \n",
       "mean    58.938144      42.762887     8.505155   0.072165   7.886598   \n",
       "std     21.471791      21.835929    10.448409   0.260105   1.442483   \n",
       "min     18.000000       0.000000   -10.000000   0.000000   6.000000   \n",
       "25%     44.000000      28.000000     0.000000   0.000000   7.000000   \n",
       "50%     57.000000      45.000000     8.000000   0.000000   8.000000   \n",
       "75%     73.000000      59.000000    19.000000   0.000000   9.000000   \n",
       "max    130.000000      80.000000    27.000000   1.000000  10.000000   \n",
       "\n",
       "         Weekday  DAILY_PROFIT  \n",
       "count  97.000000     97.000000  \n",
       "mean    0.556701    302.675691  \n",
       "std     0.499355    157.132437  \n",
       "min     0.000000     39.586000  \n",
       "25%     0.000000    198.686000  \n",
       "50%     1.000000    257.886000  \n",
       "75%     1.000000    400.486000  \n",
       "max     1.000000    843.986000  "
      ]
     },
     "execution_count": 9,
     "metadata": {},
     "output_type": "execute_result"
    }
   ],
   "source": [
    "London_data.describe()"
   ]
  },
  {
   "cell_type": "code",
   "execution_count": 67,
   "metadata": {},
   "outputs": [
    {
     "data": {
      "text/plain": [
       "Quantity         130.000\n",
       "Precipitation     39.000\n",
       "Temperature       17.000\n",
       "Festival           1.000\n",
       "Price              9.000\n",
       "Weekday            1.000\n",
       "DAILY_PROFIT     843.986\n",
       "Elasticity        -6.250\n",
       "Name: 6/10/2014, dtype: float64"
      ]
     },
     "execution_count": 67,
     "metadata": {},
     "output_type": "execute_result"
    }
   ],
   "source": [
    "London_data.loc[London_data['DAILY_PROFIT'].idxmax()]"
   ]
  },
  {
   "cell_type": "code",
   "execution_count": 10,
   "metadata": {},
   "outputs": [
    {
     "name": "stderr",
     "output_type": "stream",
     "text": [
      "C:\\Users\\Claire\\Anaconda3\\lib\\site-packages\\ipykernel_launcher.py:5: SettingWithCopyWarning: \n",
      "A value is trying to be set on a copy of a slice from a DataFrame\n",
      "\n",
      "See the caveats in the documentation: http://pandas.pydata.org/pandas-docs/stable/indexing.html#indexing-view-versus-copy\n",
      "  \"\"\"\n"
     ]
    },
    {
     "data": {
      "text/plain": [
       "-0.39777276501156017"
      ]
     },
     "execution_count": 10,
     "metadata": {},
     "output_type": "execute_result"
    }
   ],
   "source": [
    "London_data['Elasticity'] = np.nan\n",
    "\n",
    "for i in range(1,len(London_data)):\n",
    "    if London_data['Price'][i] != London_data['Price'][i-1]:\n",
    "        London_data['Elasticity'][i] = (London_data['Quantity'][i] - London_data['Quantity'][i-1])/London_data['Quantity'][i-1] /((London_data['Price'][i] - London_data['Price'][i-1])/London_data['Price'][i-1])\n",
    "        \n",
    "London_data['Elasticity'].mean()"
   ]
  },
  {
   "cell_type": "code",
   "execution_count": null,
   "metadata": {
    "collapsed": true
   },
   "outputs": [],
   "source": []
  },
  {
   "cell_type": "markdown",
   "metadata": {},
   "source": [
    "###### Waterloo"
   ]
  },
  {
   "cell_type": "code",
   "execution_count": 11,
   "metadata": {},
   "outputs": [
    {
     "data": {
      "text/html": [
       "<div>\n",
       "<style>\n",
       "    .dataframe thead tr:only-child th {\n",
       "        text-align: right;\n",
       "    }\n",
       "\n",
       "    .dataframe thead th {\n",
       "        text-align: left;\n",
       "    }\n",
       "\n",
       "    .dataframe tbody tr th {\n",
       "        vertical-align: top;\n",
       "    }\n",
       "</style>\n",
       "<table border=\"1\" class=\"dataframe\">\n",
       "  <thead>\n",
       "    <tr style=\"text-align: right;\">\n",
       "      <th></th>\n",
       "      <th>Quantity</th>\n",
       "      <th>Precipitation</th>\n",
       "      <th>Temperature</th>\n",
       "      <th>Festival</th>\n",
       "      <th>Price</th>\n",
       "      <th>Weekday</th>\n",
       "    </tr>\n",
       "    <tr>\n",
       "      <th>Date</th>\n",
       "      <th></th>\n",
       "      <th></th>\n",
       "      <th></th>\n",
       "      <th></th>\n",
       "      <th></th>\n",
       "      <th></th>\n",
       "    </tr>\n",
       "  </thead>\n",
       "  <tbody>\n",
       "    <tr>\n",
       "      <th>12/7/2013</th>\n",
       "      <td>38</td>\n",
       "      <td>62</td>\n",
       "      <td>-3</td>\n",
       "      <td>0</td>\n",
       "      <td>8</td>\n",
       "      <td>0</td>\n",
       "    </tr>\n",
       "    <tr>\n",
       "      <th>12/18/2013</th>\n",
       "      <td>54</td>\n",
       "      <td>63</td>\n",
       "      <td>-5</td>\n",
       "      <td>0</td>\n",
       "      <td>8</td>\n",
       "      <td>1</td>\n",
       "    </tr>\n",
       "  </tbody>\n",
       "</table>\n",
       "</div>"
      ],
      "text/plain": [
       "            Quantity  Precipitation  Temperature  Festival  Price  Weekday\n",
       "Date                                                                      \n",
       "12/7/2013         38             62           -3         0      8        0\n",
       "12/18/2013        54             63           -5         0      8        1"
      ]
     },
     "execution_count": 11,
     "metadata": {},
     "output_type": "execute_result"
    }
   ],
   "source": [
    "# Waterloo\n",
    "Waterloo_data = data.loc[data['Waterloo'] == 1]\n",
    "Waterloo_data = Waterloo_data [['Quantity','Precipitation','Temperature','Festival','Price','Weekday']]\n",
    "\n",
    "# Waterloo_data.reset_index(drop=True)\n",
    "Waterloo_data.head(2)"
   ]
  },
  {
   "cell_type": "code",
   "execution_count": 12,
   "metadata": {},
   "outputs": [
    {
     "data": {
      "text/html": [
       "<div>\n",
       "<style>\n",
       "    .dataframe thead tr:only-child th {\n",
       "        text-align: right;\n",
       "    }\n",
       "\n",
       "    .dataframe thead th {\n",
       "        text-align: left;\n",
       "    }\n",
       "\n",
       "    .dataframe tbody tr th {\n",
       "        vertical-align: top;\n",
       "    }\n",
       "</style>\n",
       "<table border=\"1\" class=\"dataframe\">\n",
       "  <thead>\n",
       "    <tr style=\"text-align: right;\">\n",
       "      <th></th>\n",
       "      <th>Quantity</th>\n",
       "      <th>Precipitation</th>\n",
       "      <th>Temperature</th>\n",
       "      <th>Festival</th>\n",
       "      <th>Price</th>\n",
       "      <th>Weekday</th>\n",
       "      <th>DAILY_PROFIT</th>\n",
       "    </tr>\n",
       "    <tr>\n",
       "      <th>Date</th>\n",
       "      <th></th>\n",
       "      <th></th>\n",
       "      <th></th>\n",
       "      <th></th>\n",
       "      <th></th>\n",
       "      <th></th>\n",
       "      <th></th>\n",
       "    </tr>\n",
       "  </thead>\n",
       "  <tbody>\n",
       "    <tr>\n",
       "      <th>12/7/2013</th>\n",
       "      <td>38</td>\n",
       "      <td>62</td>\n",
       "      <td>-3</td>\n",
       "      <td>0</td>\n",
       "      <td>8</td>\n",
       "      <td>0</td>\n",
       "      <td>182.5184</td>\n",
       "    </tr>\n",
       "    <tr>\n",
       "      <th>12/18/2013</th>\n",
       "      <td>54</td>\n",
       "      <td>63</td>\n",
       "      <td>-5</td>\n",
       "      <td>0</td>\n",
       "      <td>8</td>\n",
       "      <td>1</td>\n",
       "      <td>269.8784</td>\n",
       "    </tr>\n",
       "  </tbody>\n",
       "</table>\n",
       "</div>"
      ],
      "text/plain": [
       "            Quantity  Precipitation  Temperature  Festival  Price  Weekday  \\\n",
       "Date                                                                         \n",
       "12/7/2013         38             62           -3         0      8        0   \n",
       "12/18/2013        54             63           -5         0      8        1   \n",
       "\n",
       "            DAILY_PROFIT  \n",
       "Date                      \n",
       "12/7/2013       182.5184  \n",
       "12/18/2013      269.8784  "
      ]
     },
     "execution_count": 12,
     "metadata": {},
     "output_type": "execute_result"
    }
   ],
   "source": [
    "Waterloo_data['DAILY_PROFIT'] =  Waterloo_data.Quantity * Waterloo_data.Price - (10 + 72/5*1.039 + Waterloo_data.Quantity * 2.54)\n",
    "Waterloo_data.head(2)"
   ]
  },
  {
   "cell_type": "code",
   "execution_count": 13,
   "metadata": {},
   "outputs": [
    {
     "name": "stdout",
     "output_type": "stream",
     "text": [
      "Total profit for Waterloo is $ 10612.4\n",
      "Avgerage daily profit for Waterloo is $ 145.4\n",
      "Median daily profit for Waterloo is $ 108.8384\n"
     ]
    }
   ],
   "source": [
    "# Total profit\n",
    "\n",
    "print('Total profit for Waterloo is $', round(sum(Waterloo_data['DAILY_PROFIT']),1)) \n",
    "\n",
    "print('Avgerage daily profit for Waterloo is $', round(sum(Waterloo_data['DAILY_PROFIT'])/len(Waterloo_data['DAILY_PROFIT']),1))\n",
    "\n",
    "print('Median daily profit for Waterloo is $', statistics.median(Waterloo_data['DAILY_PROFIT'])) "
   ]
  },
  {
   "cell_type": "code",
   "execution_count": 14,
   "metadata": {},
   "outputs": [
    {
     "name": "stdout",
     "output_type": "stream",
     "text": [
      "Count of days in Waterloo: 73\n",
      "Percentage of days in Waterloo: 20.0 %\n"
     ]
    }
   ],
   "source": [
    "# count\n",
    "print('Count of days in Waterloo:', len(Waterloo_data['DAILY_PROFIT'])) \n",
    "print('Percentage of days in Waterloo:', round(len(Waterloo_data['DAILY_PROFIT'])/365*100,1),'%') "
   ]
  },
  {
   "cell_type": "code",
   "execution_count": 15,
   "metadata": {},
   "outputs": [
    {
     "data": {
      "text/html": [
       "<div>\n",
       "<style>\n",
       "    .dataframe thead tr:only-child th {\n",
       "        text-align: right;\n",
       "    }\n",
       "\n",
       "    .dataframe thead th {\n",
       "        text-align: left;\n",
       "    }\n",
       "\n",
       "    .dataframe tbody tr th {\n",
       "        vertical-align: top;\n",
       "    }\n",
       "</style>\n",
       "<table border=\"1\" class=\"dataframe\">\n",
       "  <thead>\n",
       "    <tr style=\"text-align: right;\">\n",
       "      <th></th>\n",
       "      <th>Quantity</th>\n",
       "      <th>Precipitation</th>\n",
       "      <th>Temperature</th>\n",
       "      <th>Festival</th>\n",
       "      <th>Price</th>\n",
       "      <th>Weekday</th>\n",
       "      <th>DAILY_PROFIT</th>\n",
       "    </tr>\n",
       "  </thead>\n",
       "  <tbody>\n",
       "    <tr>\n",
       "      <th>count</th>\n",
       "      <td>73.000000</td>\n",
       "      <td>73.000000</td>\n",
       "      <td>73.000000</td>\n",
       "      <td>73.000000</td>\n",
       "      <td>73.000000</td>\n",
       "      <td>73.000000</td>\n",
       "      <td>73.000000</td>\n",
       "    </tr>\n",
       "    <tr>\n",
       "      <th>mean</th>\n",
       "      <td>32.684932</td>\n",
       "      <td>51.712329</td>\n",
       "      <td>10.000000</td>\n",
       "      <td>0.136986</td>\n",
       "      <td>8.136986</td>\n",
       "      <td>0.534247</td>\n",
       "      <td>145.374838</td>\n",
       "    </tr>\n",
       "    <tr>\n",
       "      <th>std</th>\n",
       "      <td>26.834822</td>\n",
       "      <td>27.923745</td>\n",
       "      <td>9.556847</td>\n",
       "      <td>0.346212</td>\n",
       "      <td>1.502914</td>\n",
       "      <td>0.502278</td>\n",
       "      <td>136.210555</td>\n",
       "    </tr>\n",
       "    <tr>\n",
       "      <th>min</th>\n",
       "      <td>0.000000</td>\n",
       "      <td>0.000000</td>\n",
       "      <td>-7.000000</td>\n",
       "      <td>0.000000</td>\n",
       "      <td>6.000000</td>\n",
       "      <td>0.000000</td>\n",
       "      <td>-24.961600</td>\n",
       "    </tr>\n",
       "    <tr>\n",
       "      <th>25%</th>\n",
       "      <td>13.000000</td>\n",
       "      <td>30.000000</td>\n",
       "      <td>0.000000</td>\n",
       "      <td>0.000000</td>\n",
       "      <td>7.000000</td>\n",
       "      <td>0.000000</td>\n",
       "      <td>40.778400</td>\n",
       "    </tr>\n",
       "    <tr>\n",
       "      <th>50%</th>\n",
       "      <td>28.000000</td>\n",
       "      <td>54.000000</td>\n",
       "      <td>9.000000</td>\n",
       "      <td>0.000000</td>\n",
       "      <td>8.000000</td>\n",
       "      <td>1.000000</td>\n",
       "      <td>108.838400</td>\n",
       "    </tr>\n",
       "    <tr>\n",
       "      <th>75%</th>\n",
       "      <td>45.000000</td>\n",
       "      <td>68.000000</td>\n",
       "      <td>18.000000</td>\n",
       "      <td>0.000000</td>\n",
       "      <td>10.000000</td>\n",
       "      <td>1.000000</td>\n",
       "      <td>206.958400</td>\n",
       "    </tr>\n",
       "    <tr>\n",
       "      <th>max</th>\n",
       "      <td>135.000000</td>\n",
       "      <td>100.000000</td>\n",
       "      <td>26.000000</td>\n",
       "      <td>1.000000</td>\n",
       "      <td>10.000000</td>\n",
       "      <td>1.000000</td>\n",
       "      <td>602.938400</td>\n",
       "    </tr>\n",
       "  </tbody>\n",
       "</table>\n",
       "</div>"
      ],
      "text/plain": [
       "         Quantity  Precipitation  Temperature   Festival      Price  \\\n",
       "count   73.000000      73.000000    73.000000  73.000000  73.000000   \n",
       "mean    32.684932      51.712329    10.000000   0.136986   8.136986   \n",
       "std     26.834822      27.923745     9.556847   0.346212   1.502914   \n",
       "min      0.000000       0.000000    -7.000000   0.000000   6.000000   \n",
       "25%     13.000000      30.000000     0.000000   0.000000   7.000000   \n",
       "50%     28.000000      54.000000     9.000000   0.000000   8.000000   \n",
       "75%     45.000000      68.000000    18.000000   0.000000  10.000000   \n",
       "max    135.000000     100.000000    26.000000   1.000000  10.000000   \n",
       "\n",
       "         Weekday  DAILY_PROFIT  \n",
       "count  73.000000     73.000000  \n",
       "mean    0.534247    145.374838  \n",
       "std     0.502278    136.210555  \n",
       "min     0.000000    -24.961600  \n",
       "25%     0.000000     40.778400  \n",
       "50%     1.000000    108.838400  \n",
       "75%     1.000000    206.958400  \n",
       "max     1.000000    602.938400  "
      ]
     },
     "execution_count": 15,
     "metadata": {},
     "output_type": "execute_result"
    }
   ],
   "source": [
    "Waterloo_data.describe()"
   ]
  },
  {
   "cell_type": "code",
   "execution_count": 70,
   "metadata": {},
   "outputs": [
    {
     "data": {
      "text/plain": [
       "Quantity         115.0000\n",
       "Precipitation     54.0000\n",
       "Temperature       23.0000\n",
       "Festival           1.0000\n",
       "Price              8.0000\n",
       "Weekday            1.0000\n",
       "DAILY_PROFIT     602.9384\n",
       "Elasticity         1.0500\n",
       "Name: 6/1/2014, dtype: float64"
      ]
     },
     "execution_count": 70,
     "metadata": {},
     "output_type": "execute_result"
    }
   ],
   "source": [
    "Waterloo_data.loc[Waterloo_data['DAILY_PROFIT'].idxmax()]"
   ]
  },
  {
   "cell_type": "code",
   "execution_count": 16,
   "metadata": {},
   "outputs": [
    {
     "name": "stderr",
     "output_type": "stream",
     "text": [
      "C:\\Users\\Claire\\Anaconda3\\lib\\site-packages\\ipykernel_launcher.py:5: SettingWithCopyWarning: \n",
      "A value is trying to be set on a copy of a slice from a DataFrame\n",
      "\n",
      "See the caveats in the documentation: http://pandas.pydata.org/pandas-docs/stable/indexing.html#indexing-view-versus-copy\n",
      "  \"\"\"\n"
     ]
    },
    {
     "data": {
      "text/plain": [
       "-6.4696452276737455"
      ]
     },
     "execution_count": 16,
     "metadata": {},
     "output_type": "execute_result"
    }
   ],
   "source": [
    "Waterloo_data['Elasticity'] = np.nan\n",
    "\n",
    "for i in range(1,len(Waterloo_data)):\n",
    "    if Waterloo_data['Price'][i] != Waterloo_data['Price'][i-1]:\n",
    "        Waterloo_data['Elasticity'][i] = (Waterloo_data['Quantity'][i] - Waterloo_data['Quantity'][i-1])/Waterloo_data['Quantity'][i-1] /((Waterloo_data['Price'][i] - Waterloo_data['Price'][i-1])/Waterloo_data['Price'][i-1])\n",
    "        \n",
    "Waterloo_data['Elasticity'].mean()"
   ]
  },
  {
   "cell_type": "code",
   "execution_count": null,
   "metadata": {
    "collapsed": true
   },
   "outputs": [],
   "source": []
  },
  {
   "cell_type": "markdown",
   "metadata": {},
   "source": [
    "##### Toronto"
   ]
  },
  {
   "cell_type": "code",
   "execution_count": 17,
   "metadata": {},
   "outputs": [
    {
     "data": {
      "text/html": [
       "<div>\n",
       "<style>\n",
       "    .dataframe thead tr:only-child th {\n",
       "        text-align: right;\n",
       "    }\n",
       "\n",
       "    .dataframe thead th {\n",
       "        text-align: left;\n",
       "    }\n",
       "\n",
       "    .dataframe tbody tr th {\n",
       "        vertical-align: top;\n",
       "    }\n",
       "</style>\n",
       "<table border=\"1\" class=\"dataframe\">\n",
       "  <thead>\n",
       "    <tr style=\"text-align: right;\">\n",
       "      <th></th>\n",
       "      <th>Quantity</th>\n",
       "      <th>Precipitation</th>\n",
       "      <th>Temperature</th>\n",
       "      <th>Festival</th>\n",
       "      <th>Price</th>\n",
       "      <th>Weekday</th>\n",
       "    </tr>\n",
       "    <tr>\n",
       "      <th>Date</th>\n",
       "      <th></th>\n",
       "      <th></th>\n",
       "      <th></th>\n",
       "      <th></th>\n",
       "      <th></th>\n",
       "      <th></th>\n",
       "    </tr>\n",
       "  </thead>\n",
       "  <tbody>\n",
       "    <tr>\n",
       "      <th>12/2/2013</th>\n",
       "      <td>53</td>\n",
       "      <td>73</td>\n",
       "      <td>3</td>\n",
       "      <td>0</td>\n",
       "      <td>10</td>\n",
       "      <td>1</td>\n",
       "    </tr>\n",
       "    <tr>\n",
       "      <th>12/5/2013</th>\n",
       "      <td>7</td>\n",
       "      <td>89</td>\n",
       "      <td>0</td>\n",
       "      <td>0</td>\n",
       "      <td>10</td>\n",
       "      <td>0</td>\n",
       "    </tr>\n",
       "  </tbody>\n",
       "</table>\n",
       "</div>"
      ],
      "text/plain": [
       "           Quantity  Precipitation  Temperature  Festival  Price  Weekday\n",
       "Date                                                                     \n",
       "12/2/2013        53             73            3         0     10        1\n",
       "12/5/2013         7             89            0         0     10        0"
      ]
     },
     "execution_count": 17,
     "metadata": {},
     "output_type": "execute_result"
    }
   ],
   "source": [
    "# Toronto\n",
    "\n",
    "Toronto_data = data.loc[data['Toronto'] == 1]\n",
    "Toronto_data = Toronto_data [['Quantity','Precipitation','Temperature','Festival','Price','Weekday']]\n",
    "\n",
    "# Toronto_data.reset_index(drop=True)\n",
    "Toronto_data.head(2)"
   ]
  },
  {
   "cell_type": "code",
   "execution_count": 18,
   "metadata": {},
   "outputs": [
    {
     "data": {
      "text/html": [
       "<div>\n",
       "<style>\n",
       "    .dataframe thead tr:only-child th {\n",
       "        text-align: right;\n",
       "    }\n",
       "\n",
       "    .dataframe thead th {\n",
       "        text-align: left;\n",
       "    }\n",
       "\n",
       "    .dataframe tbody tr th {\n",
       "        vertical-align: top;\n",
       "    }\n",
       "</style>\n",
       "<table border=\"1\" class=\"dataframe\">\n",
       "  <thead>\n",
       "    <tr style=\"text-align: right;\">\n",
       "      <th></th>\n",
       "      <th>Quantity</th>\n",
       "      <th>Precipitation</th>\n",
       "      <th>Temperature</th>\n",
       "      <th>Festival</th>\n",
       "      <th>Price</th>\n",
       "      <th>Weekday</th>\n",
       "      <th>DAILY_PROFIT</th>\n",
       "    </tr>\n",
       "    <tr>\n",
       "      <th>Date</th>\n",
       "      <th></th>\n",
       "      <th></th>\n",
       "      <th></th>\n",
       "      <th></th>\n",
       "      <th></th>\n",
       "      <th></th>\n",
       "      <th></th>\n",
       "    </tr>\n",
       "  </thead>\n",
       "  <tbody>\n",
       "    <tr>\n",
       "      <th>12/2/2013</th>\n",
       "      <td>53</td>\n",
       "      <td>73</td>\n",
       "      <td>3</td>\n",
       "      <td>0</td>\n",
       "      <td>10</td>\n",
       "      <td>1</td>\n",
       "      <td>246.654</td>\n",
       "    </tr>\n",
       "    <tr>\n",
       "      <th>12/5/2013</th>\n",
       "      <td>7</td>\n",
       "      <td>89</td>\n",
       "      <td>0</td>\n",
       "      <td>0</td>\n",
       "      <td>10</td>\n",
       "      <td>0</td>\n",
       "      <td>-1.746</td>\n",
       "    </tr>\n",
       "  </tbody>\n",
       "</table>\n",
       "</div>"
      ],
      "text/plain": [
       "           Quantity  Precipitation  Temperature  Festival  Price  Weekday  \\\n",
       "Date                                                                        \n",
       "12/2/2013        53             73            3         0     10        1   \n",
       "12/5/2013         7             89            0         0     10        0   \n",
       "\n",
       "           DAILY_PROFIT  \n",
       "Date                     \n",
       "12/2/2013       246.654  \n",
       "12/5/2013        -1.746  "
      ]
     },
     "execution_count": 18,
     "metadata": {},
     "output_type": "execute_result"
    }
   ],
   "source": [
    "Toronto_data['DAILY_PROFIT'] =  Toronto_data.Quantity * Toronto_data.Price - (25 + 70/5*1.039 + Toronto_data.Quantity * 4.6)\n",
    "Toronto_data.head(2)"
   ]
  },
  {
   "cell_type": "code",
   "execution_count": 19,
   "metadata": {},
   "outputs": [
    {
     "name": "stdout",
     "output_type": "stream",
     "text": [
      "Total profit for Toronto is $ 13812.7\n",
      "Avgerage daily profit for Toronto is $ 146.9\n",
      "Median daily profit for Toronto is $ 139.554\n"
     ]
    }
   ],
   "source": [
    "# Total profit\n",
    "\n",
    "print('Total profit for Toronto is $', round(sum(Toronto_data['DAILY_PROFIT']),1)) \n",
    "\n",
    "print('Avgerage daily profit for Toronto is $', round(sum(Toronto_data['DAILY_PROFIT'])/len(Toronto_data['DAILY_PROFIT']),1)) \n",
    "\n",
    "print('Median daily profit for Toronto is $', statistics.median(Toronto_data['DAILY_PROFIT'])) "
   ]
  },
  {
   "cell_type": "code",
   "execution_count": 20,
   "metadata": {},
   "outputs": [
    {
     "name": "stdout",
     "output_type": "stream",
     "text": [
      "Count of days in Toronto: 94\n",
      "Percentage of days in Toronto: 25.8 %\n"
     ]
    }
   ],
   "source": [
    "# count\n",
    "print('Count of days in Toronto:', len(Toronto_data['DAILY_PROFIT'])) \n",
    "print('Percentage of days in Toronto:', round(len(Toronto_data['DAILY_PROFIT'])/365*100,1),'%') "
   ]
  },
  {
   "cell_type": "code",
   "execution_count": 21,
   "metadata": {},
   "outputs": [
    {
     "data": {
      "text/html": [
       "<div>\n",
       "<style>\n",
       "    .dataframe thead tr:only-child th {\n",
       "        text-align: right;\n",
       "    }\n",
       "\n",
       "    .dataframe thead th {\n",
       "        text-align: left;\n",
       "    }\n",
       "\n",
       "    .dataframe tbody tr th {\n",
       "        vertical-align: top;\n",
       "    }\n",
       "</style>\n",
       "<table border=\"1\" class=\"dataframe\">\n",
       "  <thead>\n",
       "    <tr style=\"text-align: right;\">\n",
       "      <th></th>\n",
       "      <th>Quantity</th>\n",
       "      <th>Precipitation</th>\n",
       "      <th>Temperature</th>\n",
       "      <th>Festival</th>\n",
       "      <th>Price</th>\n",
       "      <th>Weekday</th>\n",
       "      <th>DAILY_PROFIT</th>\n",
       "    </tr>\n",
       "  </thead>\n",
       "  <tbody>\n",
       "    <tr>\n",
       "      <th>count</th>\n",
       "      <td>94.000000</td>\n",
       "      <td>94.000000</td>\n",
       "      <td>94.000000</td>\n",
       "      <td>94.00000</td>\n",
       "      <td>94.000000</td>\n",
       "      <td>94.000000</td>\n",
       "      <td>94.000000</td>\n",
       "    </tr>\n",
       "    <tr>\n",
       "      <th>mean</th>\n",
       "      <td>58.989362</td>\n",
       "      <td>60.638298</td>\n",
       "      <td>9.670213</td>\n",
       "      <td>0.06383</td>\n",
       "      <td>7.904255</td>\n",
       "      <td>0.648936</td>\n",
       "      <td>146.943362</td>\n",
       "    </tr>\n",
       "    <tr>\n",
       "      <th>std</th>\n",
       "      <td>22.664687</td>\n",
       "      <td>22.718876</td>\n",
       "      <td>9.444106</td>\n",
       "      <td>0.24576</td>\n",
       "      <td>1.407118</td>\n",
       "      <td>0.479862</td>\n",
       "      <td>97.487431</td>\n",
       "    </tr>\n",
       "    <tr>\n",
       "      <th>min</th>\n",
       "      <td>7.000000</td>\n",
       "      <td>20.000000</td>\n",
       "      <td>-9.000000</td>\n",
       "      <td>0.00000</td>\n",
       "      <td>6.000000</td>\n",
       "      <td>0.000000</td>\n",
       "      <td>-25.546000</td>\n",
       "    </tr>\n",
       "    <tr>\n",
       "      <th>25%</th>\n",
       "      <td>45.000000</td>\n",
       "      <td>45.000000</td>\n",
       "      <td>2.000000</td>\n",
       "      <td>0.00000</td>\n",
       "      <td>7.000000</td>\n",
       "      <td>0.000000</td>\n",
       "      <td>75.354000</td>\n",
       "    </tr>\n",
       "    <tr>\n",
       "      <th>50%</th>\n",
       "      <td>55.000000</td>\n",
       "      <td>62.500000</td>\n",
       "      <td>8.500000</td>\n",
       "      <td>0.00000</td>\n",
       "      <td>8.000000</td>\n",
       "      <td>1.000000</td>\n",
       "      <td>139.554000</td>\n",
       "    </tr>\n",
       "    <tr>\n",
       "      <th>75%</th>\n",
       "      <td>74.500000</td>\n",
       "      <td>78.000000</td>\n",
       "      <td>17.750000</td>\n",
       "      <td>0.00000</td>\n",
       "      <td>9.000000</td>\n",
       "      <td>1.000000</td>\n",
       "      <td>201.504000</td>\n",
       "    </tr>\n",
       "    <tr>\n",
       "      <th>max</th>\n",
       "      <td>130.000000</td>\n",
       "      <td>99.000000</td>\n",
       "      <td>27.000000</td>\n",
       "      <td>1.00000</td>\n",
       "      <td>10.000000</td>\n",
       "      <td>1.000000</td>\n",
       "      <td>532.454000</td>\n",
       "    </tr>\n",
       "  </tbody>\n",
       "</table>\n",
       "</div>"
      ],
      "text/plain": [
       "         Quantity  Precipitation  Temperature  Festival      Price    Weekday  \\\n",
       "count   94.000000      94.000000    94.000000  94.00000  94.000000  94.000000   \n",
       "mean    58.989362      60.638298     9.670213   0.06383   7.904255   0.648936   \n",
       "std     22.664687      22.718876     9.444106   0.24576   1.407118   0.479862   \n",
       "min      7.000000      20.000000    -9.000000   0.00000   6.000000   0.000000   \n",
       "25%     45.000000      45.000000     2.000000   0.00000   7.000000   0.000000   \n",
       "50%     55.000000      62.500000     8.500000   0.00000   8.000000   1.000000   \n",
       "75%     74.500000      78.000000    17.750000   0.00000   9.000000   1.000000   \n",
       "max    130.000000      99.000000    27.000000   1.00000  10.000000   1.000000   \n",
       "\n",
       "       DAILY_PROFIT  \n",
       "count     94.000000  \n",
       "mean     146.943362  \n",
       "std       97.487431  \n",
       "min      -25.546000  \n",
       "25%       75.354000  \n",
       "50%      139.554000  \n",
       "75%      201.504000  \n",
       "max      532.454000  "
      ]
     },
     "execution_count": 21,
     "metadata": {},
     "output_type": "execute_result"
    }
   ],
   "source": [
    "Toronto_data.describe()"
   ]
  },
  {
   "cell_type": "code",
   "execution_count": 71,
   "metadata": {},
   "outputs": [
    {
     "data": {
      "text/plain": [
       "Quantity         130.000000\n",
       "Precipitation     27.000000\n",
       "Temperature       27.000000\n",
       "Festival           1.000000\n",
       "Price              9.000000\n",
       "Weekday            1.000000\n",
       "DAILY_PROFIT     532.454000\n",
       "Elasticity         6.611111\n",
       "Name: 7/6/2014, dtype: float64"
      ]
     },
     "execution_count": 71,
     "metadata": {},
     "output_type": "execute_result"
    }
   ],
   "source": [
    "Toronto_data.loc[Toronto_data['DAILY_PROFIT'].idxmax()]"
   ]
  },
  {
   "cell_type": "code",
   "execution_count": 22,
   "metadata": {},
   "outputs": [
    {
     "data": {
      "text/html": [
       "<div>\n",
       "<style>\n",
       "    .dataframe thead tr:only-child th {\n",
       "        text-align: right;\n",
       "    }\n",
       "\n",
       "    .dataframe thead th {\n",
       "        text-align: left;\n",
       "    }\n",
       "\n",
       "    .dataframe tbody tr th {\n",
       "        vertical-align: top;\n",
       "    }\n",
       "</style>\n",
       "<table border=\"1\" class=\"dataframe\">\n",
       "  <thead>\n",
       "    <tr style=\"text-align: right;\">\n",
       "      <th></th>\n",
       "      <th>Quantity</th>\n",
       "      <th>Precipitation</th>\n",
       "      <th>Temperature</th>\n",
       "      <th>Festival</th>\n",
       "      <th>Price</th>\n",
       "      <th>Weekday</th>\n",
       "      <th>DAILY_PROFIT</th>\n",
       "    </tr>\n",
       "    <tr>\n",
       "      <th>Date</th>\n",
       "      <th></th>\n",
       "      <th></th>\n",
       "      <th></th>\n",
       "      <th></th>\n",
       "      <th></th>\n",
       "      <th></th>\n",
       "      <th></th>\n",
       "    </tr>\n",
       "  </thead>\n",
       "  <tbody>\n",
       "    <tr>\n",
       "      <th>12/2/2013</th>\n",
       "      <td>53</td>\n",
       "      <td>73</td>\n",
       "      <td>3</td>\n",
       "      <td>0</td>\n",
       "      <td>10</td>\n",
       "      <td>1</td>\n",
       "      <td>246.654</td>\n",
       "    </tr>\n",
       "    <tr>\n",
       "      <th>12/5/2013</th>\n",
       "      <td>7</td>\n",
       "      <td>89</td>\n",
       "      <td>0</td>\n",
       "      <td>0</td>\n",
       "      <td>10</td>\n",
       "      <td>0</td>\n",
       "      <td>-1.746</td>\n",
       "    </tr>\n",
       "    <tr>\n",
       "      <th>12/17/2013</th>\n",
       "      <td>82</td>\n",
       "      <td>24</td>\n",
       "      <td>2</td>\n",
       "      <td>0</td>\n",
       "      <td>6</td>\n",
       "      <td>1</td>\n",
       "      <td>75.254</td>\n",
       "    </tr>\n",
       "    <tr>\n",
       "      <th>12/22/2013</th>\n",
       "      <td>59</td>\n",
       "      <td>61</td>\n",
       "      <td>-1</td>\n",
       "      <td>0</td>\n",
       "      <td>8</td>\n",
       "      <td>1</td>\n",
       "      <td>161.054</td>\n",
       "    </tr>\n",
       "    <tr>\n",
       "      <th>12/24/2013</th>\n",
       "      <td>82</td>\n",
       "      <td>33</td>\n",
       "      <td>-1</td>\n",
       "      <td>0</td>\n",
       "      <td>7</td>\n",
       "      <td>1</td>\n",
       "      <td>157.254</td>\n",
       "    </tr>\n",
       "    <tr>\n",
       "      <th>12/26/2013</th>\n",
       "      <td>76</td>\n",
       "      <td>27</td>\n",
       "      <td>-1</td>\n",
       "      <td>0</td>\n",
       "      <td>8</td>\n",
       "      <td>0</td>\n",
       "      <td>218.854</td>\n",
       "    </tr>\n",
       "    <tr>\n",
       "      <th>12/27/2013</th>\n",
       "      <td>45</td>\n",
       "      <td>59</td>\n",
       "      <td>3</td>\n",
       "      <td>0</td>\n",
       "      <td>9</td>\n",
       "      <td>0</td>\n",
       "      <td>158.454</td>\n",
       "    </tr>\n",
       "    <tr>\n",
       "      <th>12/29/2013</th>\n",
       "      <td>87</td>\n",
       "      <td>78</td>\n",
       "      <td>-4</td>\n",
       "      <td>0</td>\n",
       "      <td>7</td>\n",
       "      <td>1</td>\n",
       "      <td>169.254</td>\n",
       "    </tr>\n",
       "    <tr>\n",
       "      <th>1/4/2014</th>\n",
       "      <td>23</td>\n",
       "      <td>90</td>\n",
       "      <td>0</td>\n",
       "      <td>0</td>\n",
       "      <td>9</td>\n",
       "      <td>0</td>\n",
       "      <td>61.654</td>\n",
       "    </tr>\n",
       "    <tr>\n",
       "      <th>1/11/2014</th>\n",
       "      <td>88</td>\n",
       "      <td>53</td>\n",
       "      <td>-9</td>\n",
       "      <td>0</td>\n",
       "      <td>6</td>\n",
       "      <td>0</td>\n",
       "      <td>83.654</td>\n",
       "    </tr>\n",
       "  </tbody>\n",
       "</table>\n",
       "</div>"
      ],
      "text/plain": [
       "            Quantity  Precipitation  Temperature  Festival  Price  Weekday  \\\n",
       "Date                                                                         \n",
       "12/2/2013         53             73            3         0     10        1   \n",
       "12/5/2013          7             89            0         0     10        0   \n",
       "12/17/2013        82             24            2         0      6        1   \n",
       "12/22/2013        59             61           -1         0      8        1   \n",
       "12/24/2013        82             33           -1         0      7        1   \n",
       "12/26/2013        76             27           -1         0      8        0   \n",
       "12/27/2013        45             59            3         0      9        0   \n",
       "12/29/2013        87             78           -4         0      7        1   \n",
       "1/4/2014          23             90            0         0      9        0   \n",
       "1/11/2014         88             53           -9         0      6        0   \n",
       "\n",
       "            DAILY_PROFIT  \n",
       "Date                      \n",
       "12/2/2013        246.654  \n",
       "12/5/2013         -1.746  \n",
       "12/17/2013        75.254  \n",
       "12/22/2013       161.054  \n",
       "12/24/2013       157.254  \n",
       "12/26/2013       218.854  \n",
       "12/27/2013       158.454  \n",
       "12/29/2013       169.254  \n",
       "1/4/2014          61.654  \n",
       "1/11/2014         83.654  "
      ]
     },
     "execution_count": 22,
     "metadata": {},
     "output_type": "execute_result"
    }
   ],
   "source": [
    "Toronto_data.head(10)"
   ]
  },
  {
   "cell_type": "code",
   "execution_count": 23,
   "metadata": {},
   "outputs": [
    {
     "name": "stderr",
     "output_type": "stream",
     "text": [
      "C:\\Users\\Claire\\Anaconda3\\lib\\site-packages\\ipykernel_launcher.py:5: SettingWithCopyWarning: \n",
      "A value is trying to be set on a copy of a slice from a DataFrame\n",
      "\n",
      "See the caveats in the documentation: http://pandas.pydata.org/pandas-docs/stable/indexing.html#indexing-view-versus-copy\n",
      "  \"\"\"\n"
     ]
    },
    {
     "data": {
      "text/plain": [
       "-0.8423343134526085"
      ]
     },
     "execution_count": 23,
     "metadata": {},
     "output_type": "execute_result"
    }
   ],
   "source": [
    "Toronto_data['Elasticity'] = np.nan\n",
    "\n",
    "for i in range(1,len(Toronto_data)):\n",
    "    if Toronto_data['Price'][i] != Toronto_data['Price'][i-1]:\n",
    "        Toronto_data['Elasticity'][i] = (Toronto_data['Quantity'][i] - Toronto_data['Quantity'][i-1])/Toronto_data['Quantity'][i-1] /((Toronto_data['Price'][i] - Toronto_data['Price'][i-1])/Toronto_data['Price'][i-1])\n",
    "        \n",
    "Toronto_data['Elasticity'].mean()"
   ]
  },
  {
   "cell_type": "code",
   "execution_count": null,
   "metadata": {
    "collapsed": true
   },
   "outputs": [],
   "source": []
  },
  {
   "cell_type": "markdown",
   "metadata": {},
   "source": [
    "###### Hamilton"
   ]
  },
  {
   "cell_type": "code",
   "execution_count": 24,
   "metadata": {},
   "outputs": [
    {
     "data": {
      "text/html": [
       "<div>\n",
       "<style>\n",
       "    .dataframe thead tr:only-child th {\n",
       "        text-align: right;\n",
       "    }\n",
       "\n",
       "    .dataframe thead th {\n",
       "        text-align: left;\n",
       "    }\n",
       "\n",
       "    .dataframe tbody tr th {\n",
       "        vertical-align: top;\n",
       "    }\n",
       "</style>\n",
       "<table border=\"1\" class=\"dataframe\">\n",
       "  <thead>\n",
       "    <tr style=\"text-align: right;\">\n",
       "      <th></th>\n",
       "      <th>Quantity</th>\n",
       "      <th>Precipitation</th>\n",
       "      <th>Temperature</th>\n",
       "      <th>Festival</th>\n",
       "      <th>Price</th>\n",
       "      <th>Weekday</th>\n",
       "    </tr>\n",
       "    <tr>\n",
       "      <th>Date</th>\n",
       "      <th></th>\n",
       "      <th></th>\n",
       "      <th></th>\n",
       "      <th></th>\n",
       "      <th></th>\n",
       "      <th></th>\n",
       "    </tr>\n",
       "  </thead>\n",
       "  <tbody>\n",
       "    <tr>\n",
       "      <th>12/1/2013</th>\n",
       "      <td>76</td>\n",
       "      <td>18</td>\n",
       "      <td>-5</td>\n",
       "      <td>0</td>\n",
       "      <td>8</td>\n",
       "      <td>1</td>\n",
       "    </tr>\n",
       "    <tr>\n",
       "      <th>12/8/2013</th>\n",
       "      <td>8</td>\n",
       "      <td>85</td>\n",
       "      <td>2</td>\n",
       "      <td>0</td>\n",
       "      <td>10</td>\n",
       "      <td>1</td>\n",
       "    </tr>\n",
       "  </tbody>\n",
       "</table>\n",
       "</div>"
      ],
      "text/plain": [
       "           Quantity  Precipitation  Temperature  Festival  Price  Weekday\n",
       "Date                                                                     \n",
       "12/1/2013        76             18           -5         0      8        1\n",
       "12/8/2013         8             85            2         0     10        1"
      ]
     },
     "execution_count": 24,
     "metadata": {},
     "output_type": "execute_result"
    }
   ],
   "source": [
    "# Hamilton\n",
    "Hamilton_data = data.loc[data['Toronto'] + data['Waterloo'] + data['London'] == 0]\n",
    "Hamilton_data = Hamilton_data [['Quantity','Precipitation','Temperature','Festival','Price','Weekday']]\n",
    "\n",
    "# Hamilton_data.reset_index(drop=True)\n",
    "Hamilton_data.head(2)"
   ]
  },
  {
   "cell_type": "code",
   "execution_count": 25,
   "metadata": {},
   "outputs": [
    {
     "data": {
      "text/html": [
       "<div>\n",
       "<style>\n",
       "    .dataframe thead tr:only-child th {\n",
       "        text-align: right;\n",
       "    }\n",
       "\n",
       "    .dataframe thead th {\n",
       "        text-align: left;\n",
       "    }\n",
       "\n",
       "    .dataframe tbody tr th {\n",
       "        vertical-align: top;\n",
       "    }\n",
       "</style>\n",
       "<table border=\"1\" class=\"dataframe\">\n",
       "  <thead>\n",
       "    <tr style=\"text-align: right;\">\n",
       "      <th></th>\n",
       "      <th>Quantity</th>\n",
       "      <th>Precipitation</th>\n",
       "      <th>Temperature</th>\n",
       "      <th>Festival</th>\n",
       "      <th>Price</th>\n",
       "      <th>Weekday</th>\n",
       "      <th>DAILY_PROFIT</th>\n",
       "    </tr>\n",
       "    <tr>\n",
       "      <th>Date</th>\n",
       "      <th></th>\n",
       "      <th></th>\n",
       "      <th></th>\n",
       "      <th></th>\n",
       "      <th></th>\n",
       "      <th></th>\n",
       "      <th></th>\n",
       "    </tr>\n",
       "  </thead>\n",
       "  <tbody>\n",
       "    <tr>\n",
       "      <th>12/1/2013</th>\n",
       "      <td>76</td>\n",
       "      <td>18</td>\n",
       "      <td>-5</td>\n",
       "      <td>0</td>\n",
       "      <td>8</td>\n",
       "      <td>1</td>\n",
       "      <td>295</td>\n",
       "    </tr>\n",
       "    <tr>\n",
       "      <th>12/8/2013</th>\n",
       "      <td>8</td>\n",
       "      <td>85</td>\n",
       "      <td>2</td>\n",
       "      <td>0</td>\n",
       "      <td>10</td>\n",
       "      <td>1</td>\n",
       "      <td>33</td>\n",
       "    </tr>\n",
       "  </tbody>\n",
       "</table>\n",
       "</div>"
      ],
      "text/plain": [
       "           Quantity  Precipitation  Temperature  Festival  Price  Weekday  \\\n",
       "Date                                                                        \n",
       "12/1/2013        76             18           -5         0      8        1   \n",
       "12/8/2013         8             85            2         0     10        1   \n",
       "\n",
       "           DAILY_PROFIT  \n",
       "Date                     \n",
       "12/1/2013           295  \n",
       "12/8/2013            33  "
      ]
     },
     "execution_count": 25,
     "metadata": {},
     "output_type": "execute_result"
    }
   ],
   "source": [
    "Hamilton_data['DAILY_PROFIT'] =  Hamilton_data.Quantity * Hamilton_data.Price - (15 + 0/5*1.039 + Hamilton_data.Quantity * 3.92)\n",
    "\n",
    "Hamilton_data['DAILY_PROFIT'] = Hamilton_data['DAILY_PROFIT'].astype(int)\n",
    "\n",
    "Hamilton_data.head(2)"
   ]
  },
  {
   "cell_type": "code",
   "execution_count": 26,
   "metadata": {},
   "outputs": [
    {
     "name": "stdout",
     "output_type": "stream",
     "text": [
      "Total profit for Hamilton is $ 14672\n",
      "Avgerage daily profit for Hamilton is $ 145.3\n",
      "Median daily profit for Hamilton is $ 112\n"
     ]
    }
   ],
   "source": [
    "# Total profit\n",
    "\n",
    "print('Total profit for Hamilton is $', round(sum(Hamilton_data['DAILY_PROFIT']),1)) \n",
    "\n",
    "print('Avgerage daily profit for Hamilton is $', round(sum(Hamilton_data['DAILY_PROFIT'])/len(Hamilton_data['DAILY_PROFIT']),1))\n",
    "\n",
    "print('Median daily profit for Hamilton is $', statistics.median(Hamilton_data['DAILY_PROFIT'])) "
   ]
  },
  {
   "cell_type": "code",
   "execution_count": 27,
   "metadata": {},
   "outputs": [
    {
     "name": "stdout",
     "output_type": "stream",
     "text": [
      "Count of days in Hamilton: 101\n",
      "Percentage of days in Hamilton: 27.7 %\n"
     ]
    }
   ],
   "source": [
    "# count\n",
    "print('Count of days in Hamilton:', len(Hamilton_data['DAILY_PROFIT'])) \n",
    "print('Percentage of days in Hamilton:', round(len(Hamilton_data['DAILY_PROFIT'])/365*100,1),'%') "
   ]
  },
  {
   "cell_type": "code",
   "execution_count": 28,
   "metadata": {},
   "outputs": [
    {
     "data": {
      "text/html": [
       "<div>\n",
       "<style>\n",
       "    .dataframe thead tr:only-child th {\n",
       "        text-align: right;\n",
       "    }\n",
       "\n",
       "    .dataframe thead th {\n",
       "        text-align: left;\n",
       "    }\n",
       "\n",
       "    .dataframe tbody tr th {\n",
       "        vertical-align: top;\n",
       "    }\n",
       "</style>\n",
       "<table border=\"1\" class=\"dataframe\">\n",
       "  <thead>\n",
       "    <tr style=\"text-align: right;\">\n",
       "      <th></th>\n",
       "      <th>Quantity</th>\n",
       "      <th>Precipitation</th>\n",
       "      <th>Temperature</th>\n",
       "      <th>Festival</th>\n",
       "      <th>Price</th>\n",
       "      <th>Weekday</th>\n",
       "      <th>DAILY_PROFIT</th>\n",
       "    </tr>\n",
       "  </thead>\n",
       "  <tbody>\n",
       "    <tr>\n",
       "      <th>count</th>\n",
       "      <td>101.000000</td>\n",
       "      <td>101.000000</td>\n",
       "      <td>101.000000</td>\n",
       "      <td>101.000000</td>\n",
       "      <td>101.000000</td>\n",
       "      <td>101.000000</td>\n",
       "      <td>101.000000</td>\n",
       "    </tr>\n",
       "    <tr>\n",
       "      <th>mean</th>\n",
       "      <td>39.702970</td>\n",
       "      <td>53.435644</td>\n",
       "      <td>8.396040</td>\n",
       "      <td>0.079208</td>\n",
       "      <td>8.000000</td>\n",
       "      <td>0.544554</td>\n",
       "      <td>145.267327</td>\n",
       "    </tr>\n",
       "    <tr>\n",
       "      <th>std</th>\n",
       "      <td>25.816872</td>\n",
       "      <td>28.635089</td>\n",
       "      <td>9.832679</td>\n",
       "      <td>0.271410</td>\n",
       "      <td>1.421267</td>\n",
       "      <td>0.500495</td>\n",
       "      <td>131.001289</td>\n",
       "    </tr>\n",
       "    <tr>\n",
       "      <th>min</th>\n",
       "      <td>1.000000</td>\n",
       "      <td>0.000000</td>\n",
       "      <td>-10.000000</td>\n",
       "      <td>0.000000</td>\n",
       "      <td>6.000000</td>\n",
       "      <td>0.000000</td>\n",
       "      <td>-10.000000</td>\n",
       "    </tr>\n",
       "    <tr>\n",
       "      <th>25%</th>\n",
       "      <td>19.000000</td>\n",
       "      <td>32.000000</td>\n",
       "      <td>0.000000</td>\n",
       "      <td>0.000000</td>\n",
       "      <td>7.000000</td>\n",
       "      <td>0.000000</td>\n",
       "      <td>51.000000</td>\n",
       "    </tr>\n",
       "    <tr>\n",
       "      <th>50%</th>\n",
       "      <td>38.000000</td>\n",
       "      <td>59.000000</td>\n",
       "      <td>8.000000</td>\n",
       "      <td>0.000000</td>\n",
       "      <td>8.000000</td>\n",
       "      <td>1.000000</td>\n",
       "      <td>112.000000</td>\n",
       "    </tr>\n",
       "    <tr>\n",
       "      <th>75%</th>\n",
       "      <td>55.000000</td>\n",
       "      <td>77.000000</td>\n",
       "      <td>17.000000</td>\n",
       "      <td>0.000000</td>\n",
       "      <td>9.000000</td>\n",
       "      <td>1.000000</td>\n",
       "      <td>191.000000</td>\n",
       "    </tr>\n",
       "    <tr>\n",
       "      <th>max</th>\n",
       "      <td>125.000000</td>\n",
       "      <td>100.000000</td>\n",
       "      <td>27.000000</td>\n",
       "      <td>1.000000</td>\n",
       "      <td>10.000000</td>\n",
       "      <td>1.000000</td>\n",
       "      <td>594.000000</td>\n",
       "    </tr>\n",
       "  </tbody>\n",
       "</table>\n",
       "</div>"
      ],
      "text/plain": [
       "         Quantity  Precipitation  Temperature    Festival       Price  \\\n",
       "count  101.000000     101.000000   101.000000  101.000000  101.000000   \n",
       "mean    39.702970      53.435644     8.396040    0.079208    8.000000   \n",
       "std     25.816872      28.635089     9.832679    0.271410    1.421267   \n",
       "min      1.000000       0.000000   -10.000000    0.000000    6.000000   \n",
       "25%     19.000000      32.000000     0.000000    0.000000    7.000000   \n",
       "50%     38.000000      59.000000     8.000000    0.000000    8.000000   \n",
       "75%     55.000000      77.000000    17.000000    0.000000    9.000000   \n",
       "max    125.000000     100.000000    27.000000    1.000000   10.000000   \n",
       "\n",
       "          Weekday  DAILY_PROFIT  \n",
       "count  101.000000    101.000000  \n",
       "mean     0.544554    145.267327  \n",
       "std      0.500495    131.001289  \n",
       "min      0.000000    -10.000000  \n",
       "25%      0.000000     51.000000  \n",
       "50%      1.000000    112.000000  \n",
       "75%      1.000000    191.000000  \n",
       "max      1.000000    594.000000  "
      ]
     },
     "execution_count": 28,
     "metadata": {},
     "output_type": "execute_result"
    }
   ],
   "source": [
    "Hamilton_data.describe()"
   ]
  },
  {
   "cell_type": "code",
   "execution_count": 72,
   "metadata": {},
   "outputs": [
    {
     "data": {
      "text/plain": [
       "Quantity         120.0\n",
       "Precipitation     52.0\n",
       "Temperature       17.0\n",
       "Festival           1.0\n",
       "Price              9.0\n",
       "Weekday            0.0\n",
       "DAILY_PROFIT     594.0\n",
       "Elasticity        30.4\n",
       "Name: 6/21/2014, dtype: float64"
      ]
     },
     "execution_count": 72,
     "metadata": {},
     "output_type": "execute_result"
    }
   ],
   "source": [
    "Hamilton_data.loc[Hamilton_data['DAILY_PROFIT'].idxmax()]"
   ]
  },
  {
   "cell_type": "code",
   "execution_count": 29,
   "metadata": {},
   "outputs": [
    {
     "name": "stderr",
     "output_type": "stream",
     "text": [
      "C:\\Users\\Claire\\Anaconda3\\lib\\site-packages\\ipykernel_launcher.py:5: SettingWithCopyWarning: \n",
      "A value is trying to be set on a copy of a slice from a DataFrame\n",
      "\n",
      "See the caveats in the documentation: http://pandas.pydata.org/pandas-docs/stable/indexing.html#indexing-view-versus-copy\n",
      "  \"\"\"\n"
     ]
    },
    {
     "data": {
      "text/plain": [
       "-3.051158006576925"
      ]
     },
     "execution_count": 29,
     "metadata": {},
     "output_type": "execute_result"
    }
   ],
   "source": [
    "Hamilton_data['Elasticity'] = np.nan\n",
    "\n",
    "for i in range(1,len(Hamilton_data)):\n",
    "    if Hamilton_data['Price'][i] != Hamilton_data['Price'][i-1]:\n",
    "        Hamilton_data['Elasticity'][i] = (Hamilton_data['Quantity'][i] - Hamilton_data['Quantity'][i-1])/Hamilton_data['Quantity'][i-1] /((Hamilton_data['Price'][i] - Hamilton_data['Price'][i-1])/Hamilton_data['Price'][i-1])\n",
    "        \n",
    "Hamilton_data['Elasticity'].mean()"
   ]
  },
  {
   "cell_type": "code",
   "execution_count": null,
   "metadata": {
    "collapsed": true
   },
   "outputs": [],
   "source": []
  },
  {
   "cell_type": "markdown",
   "metadata": {},
   "source": [
    "# Regression"
   ]
  },
  {
   "cell_type": "markdown",
   "metadata": {},
   "source": [
    "Reference: http://www.statisticssolutions.com/assumptions-of-multiple-linear-regression/\n",
    "\n",
    "Assumptions:\n",
    "\n",
    "    Multiple linear regression requires the relationship between the independent and dependent variables to be linear;  [Tool: scatterplots]\n",
    "    \n",
    "    Multiple linear regression analysis requires that the errors between observed and predicted values (i.e., the residuals of the regression) should be normally distributed;   [Tool: a histogram or a Q-Q-Plot]\n",
    "    \n",
    "    Multiple linear regression assumes that there is no multicollinearity in the data;    [Tool: Variance Inflation Factor (VIF) ]\n",
    "    \n",
    "    Homoscedasticity;         [Tool: A scatterplot of residuals versus predicted values]\n",
    "    \n",
    "    \n",
    "    \n",
    "statistically significant - P < 0.05\n",
    "\n",
    "\n",
    "        -----------------------------------------------------------------------------------------------\n",
    "\n",
    "\n",
    "\n",
    "Reference: http://scikit-learn.org/stable/modules/preprocessing.html \n",
    "\n",
    "\n",
    "\n",
    "    Standardization of datasets is a common requirement for many machine learning estimators implemented in scikit-learn; they might behave badly if the individual features do not more or less look like standard normally distributed data: Gaussian with zero mean and unit variance.\n",
    "\n",
    "    In practice we often ignore the shape of the distribution and just transform the data to center it by removing the mean value of each feature, then scale it by dividing non-constant features by their standard deviation.\n",
    "\n",
    "    For instance, many elements used in the objective function of a learning algorithm (such as the RBF kernel of Support Vector Machines or the l1 and l2 regularizers of linear models) assume that all features are centered around zero and have variance in the same order. If a feature has a variance that is orders of magnitude larger than others, it might dominate the objective function and make the estimator unable to learn from other features correctly as expected.\n",
    "\n",
    "    The function scale provides a quick and easy way to perform this operation on a single array-like dataset."
   ]
  },
  {
   "cell_type": "code",
   "execution_count": 30,
   "metadata": {},
   "outputs": [
    {
     "data": {
      "text/html": [
       "<div>\n",
       "<style>\n",
       "    .dataframe thead tr:only-child th {\n",
       "        text-align: right;\n",
       "    }\n",
       "\n",
       "    .dataframe thead th {\n",
       "        text-align: left;\n",
       "    }\n",
       "\n",
       "    .dataframe tbody tr th {\n",
       "        vertical-align: top;\n",
       "    }\n",
       "</style>\n",
       "<table border=\"1\" class=\"dataframe\">\n",
       "  <thead>\n",
       "    <tr style=\"text-align: right;\">\n",
       "      <th></th>\n",
       "      <th>Precipitation</th>\n",
       "      <th>Temperature</th>\n",
       "      <th>Festival</th>\n",
       "      <th>Price</th>\n",
       "      <th>Weekday</th>\n",
       "      <th>London</th>\n",
       "      <th>Waterloo</th>\n",
       "      <th>Toronto</th>\n",
       "    </tr>\n",
       "  </thead>\n",
       "  <tbody>\n",
       "    <tr>\n",
       "      <th>0</th>\n",
       "      <td>-1.310120</td>\n",
       "      <td>-1.433293</td>\n",
       "      <td>-0.304655</td>\n",
       "      <td>0.019091</td>\n",
       "      <td>0.863951</td>\n",
       "      <td>-0.601615</td>\n",
       "      <td>-0.5</td>\n",
       "      <td>-0.588951</td>\n",
       "    </tr>\n",
       "    <tr>\n",
       "      <th>1</th>\n",
       "      <td>0.802383</td>\n",
       "      <td>-0.618573</td>\n",
       "      <td>-0.304655</td>\n",
       "      <td>1.412718</td>\n",
       "      <td>0.863951</td>\n",
       "      <td>-0.601615</td>\n",
       "      <td>-0.5</td>\n",
       "      <td>1.697934</td>\n",
       "    </tr>\n",
       "    <tr>\n",
       "      <th>2</th>\n",
       "      <td>-0.196255</td>\n",
       "      <td>-0.924093</td>\n",
       "      <td>-0.304655</td>\n",
       "      <td>0.019091</td>\n",
       "      <td>0.863951</td>\n",
       "      <td>1.662193</td>\n",
       "      <td>-0.5</td>\n",
       "      <td>-0.588951</td>\n",
       "    </tr>\n",
       "    <tr>\n",
       "      <th>3</th>\n",
       "      <td>-0.465119</td>\n",
       "      <td>-1.025933</td>\n",
       "      <td>-0.304655</td>\n",
       "      <td>0.715904</td>\n",
       "      <td>0.863951</td>\n",
       "      <td>1.662193</td>\n",
       "      <td>-0.5</td>\n",
       "      <td>-0.588951</td>\n",
       "    </tr>\n",
       "    <tr>\n",
       "      <th>4</th>\n",
       "      <td>1.416929</td>\n",
       "      <td>-0.924093</td>\n",
       "      <td>-0.304655</td>\n",
       "      <td>1.412718</td>\n",
       "      <td>-1.157473</td>\n",
       "      <td>-0.601615</td>\n",
       "      <td>-0.5</td>\n",
       "      <td>1.697934</td>\n",
       "    </tr>\n",
       "  </tbody>\n",
       "</table>\n",
       "</div>"
      ],
      "text/plain": [
       "   Precipitation  Temperature  Festival     Price   Weekday    London  \\\n",
       "0      -1.310120    -1.433293 -0.304655  0.019091  0.863951 -0.601615   \n",
       "1       0.802383    -0.618573 -0.304655  1.412718  0.863951 -0.601615   \n",
       "2      -0.196255    -0.924093 -0.304655  0.019091  0.863951  1.662193   \n",
       "3      -0.465119    -1.025933 -0.304655  0.715904  0.863951  1.662193   \n",
       "4       1.416929    -0.924093 -0.304655  1.412718 -1.157473 -0.601615   \n",
       "\n",
       "   Waterloo   Toronto  \n",
       "0      -0.5 -0.588951  \n",
       "1      -0.5  1.697934  \n",
       "2      -0.5 -0.588951  \n",
       "3      -0.5 -0.588951  \n",
       "4      -0.5  1.697934  "
      ]
     },
     "execution_count": 30,
     "metadata": {},
     "output_type": "execute_result"
    }
   ],
   "source": [
    "# Transformation & Normalization - X values  [Precipitation, Temperature, Price]\n",
    "\n",
    "X = data[[\"Precipitation\",'Temperature','Festival','Price','Weekday','London','Waterloo','Toronto']]\n",
    "X_scaled = preprocessing.scale(X)\n",
    "\n",
    "X_scaled = pd.DataFrame(X_scaled, columns=[\"Precipitation\",'Temperature','Festival','Price','Weekday','London','Waterloo','Toronto'])\n",
    "X_scaled.head()"
   ]
  },
  {
   "cell_type": "code",
   "execution_count": 31,
   "metadata": {},
   "outputs": [
    {
     "data": {
      "text/html": [
       "<table class=\"simpletable\">\n",
       "<caption>OLS Regression Results</caption>\n",
       "<tr>\n",
       "  <th>Dep. Variable:</th>        <td>Quantity</td>     <th>  R-squared:         </th> <td>   0.433</td>\n",
       "</tr>\n",
       "<tr>\n",
       "  <th>Model:</th>                   <td>OLS</td>       <th>  Adj. R-squared:    </th> <td>   0.420</td>\n",
       "</tr>\n",
       "<tr>\n",
       "  <th>Method:</th>             <td>Least Squares</td>  <th>  F-statistic:       </th> <td>   34.01</td>\n",
       "</tr>\n",
       "<tr>\n",
       "  <th>Date:</th>             <td>Sat, 20 Oct 2018</td> <th>  Prob (F-statistic):</th> <td>1.04e-39</td>\n",
       "</tr>\n",
       "<tr>\n",
       "  <th>Time:</th>                 <td>01:53:47</td>     <th>  Log-Likelihood:    </th> <td> -1611.3</td>\n",
       "</tr>\n",
       "<tr>\n",
       "  <th>No. Observations:</th>      <td>   365</td>      <th>  AIC:               </th> <td>   3241.</td>\n",
       "</tr>\n",
       "<tr>\n",
       "  <th>Df Residuals:</th>          <td>   356</td>      <th>  BIC:               </th> <td>   3276.</td>\n",
       "</tr>\n",
       "<tr>\n",
       "  <th>Df Model:</th>              <td>     8</td>      <th>                     </th>     <td> </td>   \n",
       "</tr>\n",
       "<tr>\n",
       "  <th>Covariance Type:</th>      <td>nonrobust</td>    <th>                     </th>     <td> </td>   \n",
       "</tr>\n",
       "</table>\n",
       "<table class=\"simpletable\">\n",
       "<tr>\n",
       "        <td></td>           <th>coef</th>     <th>std err</th>      <th>t</th>      <th>P>|t|</th>  <th>[0.025</th>    <th>0.975]</th>  \n",
       "</tr>\n",
       "<tr>\n",
       "  <th>const</th>         <td>   48.3781</td> <td>    1.060</td> <td>   45.646</td> <td> 0.000</td> <td>   46.294</td> <td>   50.462</td>\n",
       "</tr>\n",
       "<tr>\n",
       "  <th>Precipitation</th> <td>   -7.0929</td> <td>    1.097</td> <td>   -6.467</td> <td> 0.000</td> <td>   -9.250</td> <td>   -4.936</td>\n",
       "</tr>\n",
       "<tr>\n",
       "  <th>Temperature</th>   <td>   -2.5596</td> <td>    1.129</td> <td>   -2.267</td> <td> 0.024</td> <td>   -4.780</td> <td>   -0.339</td>\n",
       "</tr>\n",
       "<tr>\n",
       "  <th>Festival</th>      <td>   10.9691</td> <td>    1.132</td> <td>    9.691</td> <td> 0.000</td> <td>    8.743</td> <td>   13.195</td>\n",
       "</tr>\n",
       "<tr>\n",
       "  <th>Price</th>         <td>   -2.7815</td> <td>    1.067</td> <td>   -2.606</td> <td> 0.010</td> <td>   -4.880</td> <td>   -0.683</td>\n",
       "</tr>\n",
       "<tr>\n",
       "  <th>Weekday</th>       <td>   -3.6552</td> <td>    1.065</td> <td>   -3.434</td> <td> 0.001</td> <td>   -5.749</td> <td>   -1.562</td>\n",
       "</tr>\n",
       "<tr>\n",
       "  <th>London</th>        <td>    7.2900</td> <td>    1.288</td> <td>    5.661</td> <td> 0.000</td> <td>    4.757</td> <td>    9.823</td>\n",
       "</tr>\n",
       "<tr>\n",
       "  <th>Waterloo</th>      <td>   -3.6614</td> <td>    1.249</td> <td>   -2.931</td> <td> 0.004</td> <td>   -6.118</td> <td>   -1.205</td>\n",
       "</tr>\n",
       "<tr>\n",
       "  <th>Toronto</th>       <td>    9.9574</td> <td>    1.283</td> <td>    7.762</td> <td> 0.000</td> <td>    7.434</td> <td>   12.480</td>\n",
       "</tr>\n",
       "</table>\n",
       "<table class=\"simpletable\">\n",
       "<tr>\n",
       "  <th>Omnibus:</th>       <td> 4.269</td> <th>  Durbin-Watson:     </th> <td>   1.633</td>\n",
       "</tr>\n",
       "<tr>\n",
       "  <th>Prob(Omnibus):</th> <td> 0.118</td> <th>  Jarque-Bera (JB):  </th> <td>   4.328</td>\n",
       "</tr>\n",
       "<tr>\n",
       "  <th>Skew:</th>          <td> 0.171</td> <th>  Prob(JB):          </th> <td>   0.115</td>\n",
       "</tr>\n",
       "<tr>\n",
       "  <th>Kurtosis:</th>      <td> 3.410</td> <th>  Cond. No.          </th> <td>    2.05</td>\n",
       "</tr>\n",
       "</table>"
      ],
      "text/plain": [
       "<class 'statsmodels.iolib.summary.Summary'>\n",
       "\"\"\"\n",
       "                            OLS Regression Results                            \n",
       "==============================================================================\n",
       "Dep. Variable:               Quantity   R-squared:                       0.433\n",
       "Model:                            OLS   Adj. R-squared:                  0.420\n",
       "Method:                 Least Squares   F-statistic:                     34.01\n",
       "Date:                Sat, 20 Oct 2018   Prob (F-statistic):           1.04e-39\n",
       "Time:                        01:53:47   Log-Likelihood:                -1611.3\n",
       "No. Observations:                 365   AIC:                             3241.\n",
       "Df Residuals:                     356   BIC:                             3276.\n",
       "Df Model:                           8                                         \n",
       "Covariance Type:            nonrobust                                         \n",
       "=================================================================================\n",
       "                    coef    std err          t      P>|t|      [0.025      0.975]\n",
       "---------------------------------------------------------------------------------\n",
       "const            48.3781      1.060     45.646      0.000      46.294      50.462\n",
       "Precipitation    -7.0929      1.097     -6.467      0.000      -9.250      -4.936\n",
       "Temperature      -2.5596      1.129     -2.267      0.024      -4.780      -0.339\n",
       "Festival         10.9691      1.132      9.691      0.000       8.743      13.195\n",
       "Price            -2.7815      1.067     -2.606      0.010      -4.880      -0.683\n",
       "Weekday          -3.6552      1.065     -3.434      0.001      -5.749      -1.562\n",
       "London            7.2900      1.288      5.661      0.000       4.757       9.823\n",
       "Waterloo         -3.6614      1.249     -2.931      0.004      -6.118      -1.205\n",
       "Toronto           9.9574      1.283      7.762      0.000       7.434      12.480\n",
       "==============================================================================\n",
       "Omnibus:                        4.269   Durbin-Watson:                   1.633\n",
       "Prob(Omnibus):                  0.118   Jarque-Bera (JB):                4.328\n",
       "Skew:                           0.171   Prob(JB):                        0.115\n",
       "Kurtosis:                       3.410   Cond. No.                         2.05\n",
       "==============================================================================\n",
       "\n",
       "Warnings:\n",
       "[1] Standard Errors assume that the covariance matrix of the errors is correctly specified.\n",
       "\"\"\""
      ]
     },
     "execution_count": 31,
     "metadata": {},
     "output_type": "execute_result"
    }
   ],
   "source": [
    "X = sm.add_constant(X_scaled)\n",
    "y = data[[\"Quantity\"]].reset_index(drop=True)\n",
    "\n",
    "model = sm.OLS(y, X).fit()\n",
    "predictions = model.predict(X) \n",
    "\n",
    "# Print out the statistics\n",
    "model.summary()"
   ]
  },
  {
   "cell_type": "markdown",
   "metadata": {},
   "source": [
    "#### Current Output Model: \n",
    "\n",
    "\n",
    "Quantity = 48.3781 - 7.0929 * precipitation - 2.5596 * Temperature + 10.9691 * Festival - 2.7815 * Price -3.6552 * Weekday + 7.2900 * London -3.6614 * Waterloo + 9.9574 * Toronto\n",
    "\n",
    "Profit = Quantity *(price - material_cost) - parking - gas"
   ]
  },
  {
   "cell_type": "markdown",
   "metadata": {},
   "source": [
    "## Assumption Testing\n",
    "\n",
    "###### Test of assumption 1 - Linear relationship"
   ]
  },
  {
   "cell_type": "code",
   "execution_count": 32,
   "metadata": {},
   "outputs": [
    {
     "data": {
      "image/png": "[encoded data removed]",
      "text/plain": [
       "<matplotlib.figure.Figure at 0x22c2fef37f0>"
      ]
     },
     "metadata": {},
     "output_type": "display_data"
    }
   ],
   "source": [
    "fig = plt.figure(figsize=(15,10))\n",
    "\n",
    "x = data[[\"Precipitation\"]]\n",
    "y = data[[\"Quantity\"]]\n",
    "\n",
    "plt.xlabel('Precipitation')\n",
    "plt.ylabel('Quantity')\n",
    "plt.title('Linear Relationship Test - Precipitation vs. Quantity')\n",
    "plt.plot(x, y, 'o', color='black');\n",
    "plt.show()"
   ]
  },
  {
   "cell_type": "code",
   "execution_count": 33,
   "metadata": {},
   "outputs": [
    {
     "data": {
      "image/png": "[encoded data removed]",
      "text/plain": [
       "<matplotlib.figure.Figure at 0x22c2ff394a8>"
      ]
     },
     "metadata": {},
     "output_type": "display_data"
    }
   ],
   "source": [
    "fig = plt.figure(figsize=(15,10))\n",
    "\n",
    "x = data[[\"Temperature\"]]\n",
    "y = data[[\"Quantity\"]]\n",
    "\n",
    "plt.xlabel('Temperature')\n",
    "plt.ylabel('Quantity')\n",
    "plt.title('Linear Relationship Test - Temperature vs. Quantity')\n",
    "plt.plot(x, y, 'o', color='black');\n",
    "plt.show()"
   ]
  },
  {
   "cell_type": "code",
   "execution_count": 34,
   "metadata": {
    "scrolled": false
   },
   "outputs": [
    {
     "data": {
      "image/png": "[encoded data removed]",
      "text/plain": [
       "<matplotlib.figure.Figure at 0x22c31400a58>"
      ]
     },
     "metadata": {},
     "output_type": "display_data"
    }
   ],
   "source": [
    "fig = plt.figure(figsize=(15,10))\n",
    "\n",
    "y = pd.DataFrame(predictions)\n",
    "x = data[[\"Quantity\"]]\n",
    "\n",
    "plt.xlabel('Actual')\n",
    "plt.ylabel('Predicted')\n",
    "plt.title('Result Test - Predicted vs. Actual')\n",
    "plt.plot(x, y, 'o', color='black');\n",
    "plt.show()"
   ]
  },
  {
   "cell_type": "code",
   "execution_count": 80,
   "metadata": {
    "collapsed": true
   },
   "outputs": [],
   "source": [
    "pd.DataFrame(predictions).to_csv('predicted.csv')"
   ]
  },
  {
   "cell_type": "markdown",
   "metadata": {},
   "source": [
    "###### Test of assumption 2 - the residuals of the regression should be normally distributed"
   ]
  },
  {
   "cell_type": "code",
   "execution_count": 35,
   "metadata": {
    "scrolled": true
   },
   "outputs": [
    {
     "data": {
      "text/html": [
       "<div>\n",
       "<style>\n",
       "    .dataframe thead tr:only-child th {\n",
       "        text-align: right;\n",
       "    }\n",
       "\n",
       "    .dataframe thead th {\n",
       "        text-align: left;\n",
       "    }\n",
       "\n",
       "    .dataframe tbody tr th {\n",
       "        vertical-align: top;\n",
       "    }\n",
       "</style>\n",
       "<table border=\"1\" class=\"dataframe\">\n",
       "  <thead>\n",
       "    <tr style=\"text-align: right;\">\n",
       "      <th></th>\n",
       "      <th>Predicted</th>\n",
       "      <th>Quantity</th>\n",
       "      <th>Error</th>\n",
       "    </tr>\n",
       "  </thead>\n",
       "  <tbody>\n",
       "    <tr>\n",
       "      <th>0</th>\n",
       "      <td>46.366882</td>\n",
       "      <td>76</td>\n",
       "      <td>-29.633118</td>\n",
       "    </tr>\n",
       "    <tr>\n",
       "      <th>1</th>\n",
       "      <td>48.193017</td>\n",
       "      <td>53</td>\n",
       "      <td>-4.806983</td>\n",
       "    </tr>\n",
       "    <tr>\n",
       "      <th>2</th>\n",
       "      <td>53.666134</td>\n",
       "      <td>73</td>\n",
       "      <td>-19.333866</td>\n",
       "    </tr>\n",
       "    <tr>\n",
       "      <th>3</th>\n",
       "      <td>53.895659</td>\n",
       "      <td>70</td>\n",
       "      <td>-16.104341</td>\n",
       "    </tr>\n",
       "    <tr>\n",
       "      <th>4</th>\n",
       "      <td>52.004902</td>\n",
       "      <td>7</td>\n",
       "      <td>45.004902</td>\n",
       "    </tr>\n",
       "  </tbody>\n",
       "</table>\n",
       "</div>"
      ],
      "text/plain": [
       "   Predicted  Quantity      Error\n",
       "0  46.366882        76 -29.633118\n",
       "1  48.193017        53  -4.806983\n",
       "2  53.666134        73 -19.333866\n",
       "3  53.895659        70 -16.104341\n",
       "4  52.004902         7  45.004902"
      ]
     },
     "execution_count": 35,
     "metadata": {},
     "output_type": "execute_result"
    }
   ],
   "source": [
    "Predicted_value = pd.DataFrame(predictions)\n",
    "Predicted_value.columns = ['Predicted']\n",
    "\n",
    "data1 = pd.concat([Predicted_value[['Predicted']], data[[\"Quantity\"]].reset_index(drop=True)], axis=1)\n",
    "data1['Error'] = data1['Predicted'] - data1['Quantity']\n",
    "data1.head()"
   ]
  },
  {
   "cell_type": "code",
   "execution_count": 36,
   "metadata": {},
   "outputs": [
    {
     "data": {
      "image/png": "[encoded data removed]",
      "text/plain": [
       "<matplotlib.figure.Figure at 0x22c31689358>"
      ]
     },
     "metadata": {},
     "output_type": "display_data"
    }
   ],
   "source": [
    "fig = plt.figure(figsize=(15,10))\n",
    "stats.probplot(data1.Error, dist=\"norm\", plot=pylab)\n",
    "pylab.show()"
   ]
  },
  {
   "cell_type": "markdown",
   "metadata": {},
   "source": [
    "###### Test of assumption 3 - no multicollinearity in the data\n",
    "\n",
    "Variance inflation factor (VIF): a measure of multicollinearity. The VIF indicates whether a predictor has a strong linear relationship with the other predictor(s). \n",
    "\n",
    "Myers (1990) suggests that a value of 10 is a good value at which to worry. Bowerman and O’Connell (1990) suggest that if the average VIF is greater than 1, then multicollinearity may be biasing the regression model.\n",
    "\n",
    "https://www.listendata.com/2018/01/linear-regression-in-python.html"
   ]
  },
  {
   "cell_type": "code",
   "execution_count": 37,
   "metadata": {},
   "outputs": [
    {
     "data": {
      "text/plain": [
       "[2.0856191455034296,\n",
       " 1.2385836865045061,\n",
       " 4.9286829855732588,\n",
       " 2.289940897485665,\n",
       " 1.8441855897521557,\n",
       " 1.6892299491828939,\n",
       " 1.8534701821615451]"
      ]
     },
     "execution_count": 37,
     "metadata": {},
     "output_type": "execute_result"
    }
   ],
   "source": [
    "from statsmodels.stats.outliers_influence import variance_inflation_factor\n",
    "x_train = data[['Temperature','Festival','Price','Weekday','London','Waterloo','Toronto']]\n",
    "\n",
    "[variance_inflation_factor(x_train.values, j) for j in range(x_train.shape[1])]"
   ]
  },
  {
   "cell_type": "markdown",
   "metadata": {},
   "source": [
    "###### Test of assumption 4 - Homoscedasticity\n",
    "\n",
    "Use a scatterplot of residuals versus predicted values to check for homoscedasticity"
   ]
  },
  {
   "cell_type": "code",
   "execution_count": 38,
   "metadata": {},
   "outputs": [
    {
     "data": {
      "text/html": [
       "<div>\n",
       "<style>\n",
       "    .dataframe thead tr:only-child th {\n",
       "        text-align: right;\n",
       "    }\n",
       "\n",
       "    .dataframe thead th {\n",
       "        text-align: left;\n",
       "    }\n",
       "\n",
       "    .dataframe tbody tr th {\n",
       "        vertical-align: top;\n",
       "    }\n",
       "</style>\n",
       "<table border=\"1\" class=\"dataframe\">\n",
       "  <thead>\n",
       "    <tr style=\"text-align: right;\">\n",
       "      <th></th>\n",
       "      <th>Predicted</th>\n",
       "      <th>Quantity</th>\n",
       "      <th>Error</th>\n",
       "    </tr>\n",
       "  </thead>\n",
       "  <tbody>\n",
       "    <tr>\n",
       "      <th>0</th>\n",
       "      <td>46.366882</td>\n",
       "      <td>76</td>\n",
       "      <td>-29.633118</td>\n",
       "    </tr>\n",
       "    <tr>\n",
       "      <th>1</th>\n",
       "      <td>48.193017</td>\n",
       "      <td>53</td>\n",
       "      <td>-4.806983</td>\n",
       "    </tr>\n",
       "    <tr>\n",
       "      <th>2</th>\n",
       "      <td>53.666134</td>\n",
       "      <td>73</td>\n",
       "      <td>-19.333866</td>\n",
       "    </tr>\n",
       "    <tr>\n",
       "      <th>3</th>\n",
       "      <td>53.895659</td>\n",
       "      <td>70</td>\n",
       "      <td>-16.104341</td>\n",
       "    </tr>\n",
       "    <tr>\n",
       "      <th>4</th>\n",
       "      <td>52.004902</td>\n",
       "      <td>7</td>\n",
       "      <td>45.004902</td>\n",
       "    </tr>\n",
       "  </tbody>\n",
       "</table>\n",
       "</div>"
      ],
      "text/plain": [
       "   Predicted  Quantity      Error\n",
       "0  46.366882        76 -29.633118\n",
       "1  48.193017        53  -4.806983\n",
       "2  53.666134        73 -19.333866\n",
       "3  53.895659        70 -16.104341\n",
       "4  52.004902         7  45.004902"
      ]
     },
     "execution_count": 38,
     "metadata": {},
     "output_type": "execute_result"
    }
   ],
   "source": [
    "data1.head()"
   ]
  },
  {
   "cell_type": "code",
   "execution_count": 39,
   "metadata": {
    "scrolled": false
   },
   "outputs": [
    {
     "data": {
      "image/png": "[encoded data removed]",
      "text/plain": [
       "<matplotlib.figure.Figure at 0x22c319840b8>"
      ]
     },
     "metadata": {},
     "output_type": "display_data"
    }
   ],
   "source": [
    "fig = plt.figure(figsize=(15,10))\n",
    "\n",
    "x = data1[['Error']]\n",
    "y = data1[['Predicted']]\n",
    "\n",
    "plt.xlabel('Residual')\n",
    "plt.ylabel('Predicted')\n",
    "plt.title('Result Test - Residual vs. Predicted Values')\n",
    "plt.plot(x, y, 'o', color='black');\n",
    "plt.show()\n",
    "\n",
    "\n",
    "# no clear pattern in the distribution, good"
   ]
  },
  {
   "cell_type": "code",
   "execution_count": null,
   "metadata": {
    "collapsed": true
   },
   "outputs": [],
   "source": []
  },
  {
   "cell_type": "markdown",
   "metadata": {},
   "source": [
    "### Conclusion - \n",
    "#### Output Model: \n",
    "\n",
    "Quantity = 48.3781 - 7.0929 * precipitation - 2.5596 * Temperature + 10.9691 * Festival - 2.7815 * Price -3.6552 * Weekday + 7.2900 * London -3.6614 * Waterloo + 9.9574 * Toronto\n",
    "\n",
    "Profit = Quantity *(price - material_cost) - parking - gas"
   ]
  },
  {
   "cell_type": "markdown",
   "metadata": {},
   "source": [
    "# Optimization - \n",
    "\n",
    "Fixed cost is ignored since constant; Toronto = 1 with all other city parameters = 0;\n",
    "\n",
    "Profit = Quantity * (price - material_cost)\n",
    "\n",
    "Profit = (48.3781 - 7.0929 * precipitation - 2.5596 * Temperature + 10.9691 * Festival - 2.7815 * Price -3.6552 * Weekday + 7.2900 * London -3.6614 * Waterloo + 9.9574 * Toronto)     *    [Price - 4.6*Toronto - 2.54*Waterloo - 2.3*London - 3.92 *(1-London-Waterloo-Toronto)] \n",
    "\n",
    "\n",
    "###### Assuming precipitation, Temperature, Festival, Weekday are constants at first derivative (not affecting profit quad); so ignore\n",
    "\n",
    "Profit = (constant - 2.7815 * Price + 7.2900 * London -3.6614 * Waterloo + 9.9574 * Toronto)     *    [Price - 0.68*Toronto + 1.38*Waterloo + 1.62*London -3.92]\n",
    "\n",
    "\n",
    "###### Effect of price at certain city - \n",
    "Profit = (constant - 2.7815 * Price) * Price"
   ]
  },
  {
   "cell_type": "markdown",
   "metadata": {},
   "source": [
    "### Sample example - substitute with all non-price parameters with median value"
   ]
  },
  {
   "cell_type": "code",
   "execution_count": 40,
   "metadata": {},
   "outputs": [
    {
     "data": {
      "text/html": [
       "<div>\n",
       "<style>\n",
       "    .dataframe thead tr:only-child th {\n",
       "        text-align: right;\n",
       "    }\n",
       "\n",
       "    .dataframe thead th {\n",
       "        text-align: left;\n",
       "    }\n",
       "\n",
       "    .dataframe tbody tr th {\n",
       "        vertical-align: top;\n",
       "    }\n",
       "</style>\n",
       "<table border=\"1\" class=\"dataframe\">\n",
       "  <thead>\n",
       "    <tr style=\"text-align: right;\">\n",
       "      <th></th>\n",
       "      <th>Precipitation</th>\n",
       "      <th>Temperature</th>\n",
       "      <th>Festival</th>\n",
       "      <th>Price</th>\n",
       "      <th>Weekday</th>\n",
       "      <th>London</th>\n",
       "      <th>Waterloo</th>\n",
       "      <th>Toronto</th>\n",
       "    </tr>\n",
       "  </thead>\n",
       "  <tbody>\n",
       "    <tr>\n",
       "      <th>0</th>\n",
       "      <td>0.0342</td>\n",
       "      <td>-0.109373</td>\n",
       "      <td>-0.304655</td>\n",
       "      <td>0.019091</td>\n",
       "      <td>0.863951</td>\n",
       "      <td>-0.601615</td>\n",
       "      <td>-0.5</td>\n",
       "      <td>-0.588951</td>\n",
       "    </tr>\n",
       "  </tbody>\n",
       "</table>\n",
       "</div>"
      ],
      "text/plain": [
       "   Precipitation  Temperature  Festival     Price   Weekday    London  \\\n",
       "0         0.0342    -0.109373 -0.304655  0.019091  0.863951 -0.601615   \n",
       "\n",
       "   Waterloo   Toronto  \n",
       "0      -0.5 -0.588951  "
      ]
     },
     "execution_count": 40,
     "metadata": {},
     "output_type": "execute_result"
    }
   ],
   "source": [
    "pd.DataFrame([X_scaled.median()])"
   ]
  },
  {
   "cell_type": "markdown",
   "metadata": {},
   "source": [
    "Profit = (48.3781 - 7.0929 * 0.0342 - 2.5596 * -0.109373 + 10.9691 * -0.304655 - 2.7815 * Price -3.6552 * 0.863951 + 7.2900 * London -3.6614 * Waterloo + 9.9574 * Toronto)     *    [Price - 4.6*Toronto - 2.54*Waterloo - 2.3*London - 3.92 *(1-London-Waterloo-Toronto)] \n",
    "\n",
    "Hence, \n",
    "\n",
    "    Profit = (41.9157690951 - 2.7815 Price + 7.2900 * London -3.6614 * Waterloo + 9.9574 * Toronto) [Price - 0.68Toronto + 1.38Waterloo + 1.62London - 3.92]\n",
    "\n",
    "\n",
    "    Quantity = 41.9157690951 - 2.7815 Price + 7.2900 * London -3.6614 * Waterloo + 9.9574 * Toronto"
   ]
  },
  {
   "cell_type": "markdown",
   "metadata": {},
   "source": [
    "##### Toronto (Toronto = 1, all other city parameter = 0)\n",
    "\n",
    "Profit = (51.8731690951 - 2.7815 Price) (Price -4.6)\n",
    "\n",
    "Profit = - 238.62 + 64.7* Price - 2.7815 Price ** 2 "
   ]
  },
  {
   "cell_type": "code",
   "execution_count": 65,
   "metadata": {
    "collapsed": true,
    "scrolled": true
   },
   "outputs": [],
   "source": [
    "# TRAIN as price, should be integer above 3 just considering material cost\n",
    "\n",
    "def Plot_profit (a,b,c,d):\n",
    "    zero_data = np.zeros(shape=(len(range(5,15)),3))\n",
    "    result = pd.DataFrame(zero_data,columns=['Price','Quantity','Profit'])\n",
    "\n",
    "    for i in range(5,15):\n",
    "        row = (i-5)\n",
    "        result['Price'][row] = i\n",
    "        result['Quantity'][row] = 41.9157690951 - 2.7815 * i + d\n",
    "        result['Profit'][row] = a + b* i +c * (i ** 2)\n",
    "\n",
    "        \n",
    "    print('Price at max profit is $',result.loc[result['Profit'].idxmax()][0],', giving a max daily profit at $', round(result.loc[result['Profit'].idxmax()][2],1))\n",
    "    print('Quantity sold at this point is ', int(result.loc[result['Profit'].idxmax()][1]))\n",
    "          \n",
    "    \n",
    "    fig = plt.figure(figsize=(15,10))\n",
    "\n",
    "    plt.xlabel('Price')\n",
    "    plt.ylabel('Profit')\n",
    "    plt.title('Profit curve - impacted by price')\n",
    "    plt.plot(result['Price'], result['Profit'], linestyle='-.', color='black');\n",
    "    plt.show()"
   ]
  },
  {
   "cell_type": "code",
   "execution_count": 42,
   "metadata": {},
   "outputs": [
    {
     "name": "stdout",
     "output_type": "stream",
     "text": [
      "Price at max profit is $ 12.0 , giving a max daily profit at $ 137.2\n",
      "Quantity sold at this point is  18\n"
     ]
    },
    {
     "data": {
      "image/png": "[encoded data removed]",
      "text/plain": [
       "<matplotlib.figure.Figure at 0x22c31bfcc88>"
      ]
     },
     "metadata": {},
     "output_type": "display_data"
    }
   ],
   "source": [
    "Plot_profit(- 238.62, 64.7, - 2.7815, 9.9574)"
   ]
  },
  {
   "cell_type": "markdown",
   "metadata": {},
   "source": [
    "#####  London ( London = 1, all other city parameter = 0)\n",
    "\n",
    "    Profit = (41.9157690951 - 2.7815 Price + 7.2900 * London -3.6614 * Waterloo + 9.9574 * Toronto) [Price - 0.68Toronto + 1.38Waterloo + 1.62London - 3.92]\n",
    "\n",
    "\n",
    "    Quantity = 41.9157690951 - 2.7815 Price + 7.2900 * London -3.6614 * Waterloo + 9.9574 * Toronto\n",
    "\n",
    "\n",
    "Hence, \n",
    "\n",
    "    Profit = (49.2 - 2.7815 Price)* (Price - 2.3)\n",
    "\n",
    "    Profit = -113.16 + 55.59745 * Price - 2.7815 Price ** 2"
   ]
  },
  {
   "cell_type": "code",
   "execution_count": 43,
   "metadata": {},
   "outputs": [
    {
     "name": "stdout",
     "output_type": "stream",
     "text": [
      "Price at max profit is $ 10.0 , giving a max daily profit at $ 164.7\n",
      "Quantity sold at this point is  21\n"
     ]
    },
    {
     "data": {
      "image/png": "[encoded data removed]",
      "text/plain": [
       "<matplotlib.figure.Figure at 0x22c32175208>"
      ]
     },
     "metadata": {},
     "output_type": "display_data"
    }
   ],
   "source": [
    "Plot_profit(-113.16, 55.59745, - 2.7815, 7.2900)"
   ]
  },
  {
   "cell_type": "markdown",
   "metadata": {},
   "source": [
    "#####  Waterloo ( Waterloo = 1, all other city parameter = 0)\n",
    "\n",
    "    Profit = (41.9157690951 - 2.7815 Price + 7.2900 * London -3.6614 * Waterloo + 9.9574 * Toronto) [Price - 0.68Toronto + 1.38Waterloo + 1.62London - 3.92]\n",
    "\n",
    "\n",
    "    Quantity = 41.9157690951 - 2.7815 Price + 7.2900 * London -3.6614 * Waterloo + 9.9574 * Toronto\n",
    "\n",
    "\n",
    "Hence, \n",
    "\n",
    "    Profit = (38.3 - 2.7815 Price)* (Price - 2.54)\n",
    "\n",
    "    Profit = -97.282 + 45.4 * Price - 2.7815 Price ** 2"
   ]
  },
  {
   "cell_type": "code",
   "execution_count": 44,
   "metadata": {},
   "outputs": [
    {
     "name": "stdout",
     "output_type": "stream",
     "text": [
      "Price at max profit is $ 8.0 , giving a max daily profit at $ 87.9\n",
      "Quantity sold at this point is  16\n"
     ]
    },
    {
     "data": {
      "image/png": "[encoded data removed]",
      "text/plain": [
       "<matplotlib.figure.Figure at 0x22c320fada0>"
      ]
     },
     "metadata": {},
     "output_type": "display_data"
    }
   ],
   "source": [
    "Plot_profit(-97.282, 45.4, - 2.7815, -3.6614)"
   ]
  },
  {
   "cell_type": "markdown",
   "metadata": {},
   "source": [
    "#####  Hamilton ( all city parameter = 0)\n",
    "\n",
    "\n",
    "    Profit = (41.9157690951 - 2.7815 Price + 7.2900 * London -3.6614 * Waterloo + 9.9574 * Toronto) [Price - 0.68Toronto + 1.38Waterloo + 1.62London - 3.92]\n",
    "\n",
    "\n",
    "    Quantity = 41.9157690951 - 2.7815 Price + 7.2900 * London -3.6614 * Waterloo + 9.9574 * Toronto\n",
    "\n",
    "\n",
    "Hence, \n",
    "\n",
    "    Profit = (41.9 - 2.7815 Price)* (Price - 3.92)\n",
    "\n",
    "    Profit = -164.248 + 52.8 * Price - 2.7815 Price ** 2"
   ]
  },
  {
   "cell_type": "code",
   "execution_count": 66,
   "metadata": {
    "scrolled": false
   },
   "outputs": [
    {
     "name": "stdout",
     "output_type": "stream",
     "text": [
      "Price at max profit is $ 9.0 , giving a max daily profit at $ 85.7\n",
      "Quantity sold at this point is  16\n"
     ]
    },
    {
     "data": {
      "image/png": "[encoded data removed]",
      "text/plain": [
       "<matplotlib.figure.Figure at 0x22c326990b8>"
      ]
     },
     "metadata": {},
     "output_type": "display_data"
    }
   ],
   "source": [
    "Plot_profit(-164.2, 52.8, - 2.7815, 0)"
   ]
  },
  {
   "cell_type": "code",
   "execution_count": null,
   "metadata": {
    "collapsed": true
   },
   "outputs": [],
   "source": []
  },
  {
   "cell_type": "markdown",
   "metadata": {},
   "source": [
    "# Appendix "
   ]
  },
  {
   "cell_type": "code",
   "execution_count": 46,
   "metadata": {},
   "outputs": [
    {
     "data": {
      "image/png": "[encoded data removed]",
      "text/plain": [
       "<matplotlib.figure.Figure at 0x22c32406390>"
      ]
     },
     "metadata": {},
     "output_type": "display_data"
    }
   ],
   "source": [
    "# Seasonality Effect\n",
    "fig = plt.figure(figsize=(15,10))\n",
    "series = Series.from_csv('Food_truck.csv', header=0)\n",
    "series.plot()\n",
    "plt.ylabel('Quantity')\n",
    "plt.title('Total Quantity Sold by Date')\n",
    "plt.show()\n",
    "\n",
    "# Quick observation: high sales during summer; low sales between September and November \n",
    "## Might not be related with seasons... "
   ]
  },
  {
   "cell_type": "code",
   "execution_count": 47,
   "metadata": {
    "collapsed": true
   },
   "outputs": [],
   "source": [
    "# # Seasonality Effect TEST - Hamilton\n",
    "\n",
    "# fig = plt.figure(figsize=(15,10))\n",
    "# series = Hamilton_data.Quantity\n",
    "# series.plot()\n",
    "# plt.ylabel('Quantity')\n",
    "# plt.title('Total Quantity Sold by Date - Hamilton')\n",
    "# plt.show()"
   ]
  },
  {
   "cell_type": "code",
   "execution_count": 48,
   "metadata": {
    "collapsed": true
   },
   "outputs": [],
   "source": [
    "# original dataset is used here \n",
    "## Visualizing pairwise relationships in the dataset as the first step before exploring data relationship\n",
    "### data sdistribution and correlation can be seen in the figure. \n",
    "##### Here: explore the relationship between nuermical data within original dataset\n",
    "\n",
    "# sns.pairplot(London_data)\n",
    "# plt.show()"
   ]
  },
  {
   "cell_type": "code",
   "execution_count": 49,
   "metadata": {
    "collapsed": true
   },
   "outputs": [],
   "source": [
    "# X = data[['Precipitation','Festival','Price','London','Toronto']]\n",
    "# y = data[[\"Quantity\"]]\n",
    "\n",
    "# # X = sm.add_constant(X)\n",
    "\n",
    "# model = sm.OLS(y, X).fit()\n",
    "# predictions = model.predict(X) # make the predictions by the model\n",
    "\n",
    "# # Print out the statistics\n",
    "# model.summary()"
   ]
  },
  {
   "cell_type": "markdown",
   "metadata": {},
   "source": [
    "### Linear Regression"
   ]
  },
  {
   "cell_type": "code",
   "execution_count": 50,
   "metadata": {
    "collapsed": true
   },
   "outputs": [],
   "source": [
    "# from sklearn import linear_model\n",
    "\n",
    "# lm = linear_model.LinearRegression()\n",
    "# model = lm.fit(X,y)"
   ]
  },
  {
   "cell_type": "code",
   "execution_count": 51,
   "metadata": {
    "collapsed": true
   },
   "outputs": [],
   "source": [
    "# lm.score(X,y)"
   ]
  },
  {
   "cell_type": "code",
   "execution_count": 52,
   "metadata": {
    "collapsed": true
   },
   "outputs": [],
   "source": [
    "# lm.coef_"
   ]
  },
  {
   "cell_type": "code",
   "execution_count": 53,
   "metadata": {
    "collapsed": true
   },
   "outputs": [],
   "source": [
    "# lm.intercept_"
   ]
  },
  {
   "cell_type": "code",
   "execution_count": null,
   "metadata": {
    "collapsed": true
   },
   "outputs": [],
   "source": []
  }
 ],
 "metadata": {
  "kernelspec": {
   "display_name": "Python 3",
   "language": "python",
   "name": "python3"
  },
  "language_info": {
   "codemirror_mode": {
    "name": "ipython",
    "version": 3
   },
   "file_extension": ".py",
   "mimetype": "text/x-python",
   "name": "python",
   "nbconvert_exporter": "python",
   "pygments_lexer": "ipython3",
   "version": "3.6.3"
  }
 },
 "nbformat": 4,
 "nbformat_minor": 2
}
